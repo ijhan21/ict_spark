{
 "cells": [
  {
   "cell_type": "code",
   "execution_count": 1,
   "metadata": {},
   "outputs": [
    {
     "name": "stderr",
     "output_type": "stream",
     "text": [
      "Using Spark's default log4j profile: org/apache/spark/log4j-defaults.properties\n",
      "Setting default log level to \"WARN\".\n",
      "To adjust logging level use sc.setLogLevel(newLevel). For SparkR, use setLogLevel(newLevel).\n",
      "23/08/03 20:34:10 WARN NativeCodeLoader: Unable to load native-hadoop library for your platform... using builtin-java classes where applicable\n",
      "                                                                                \r"
     ]
    }
   ],
   "source": [
    "from pyspark.sql import SparkSession\n",
    "\n",
    "spark = SparkSession.builder.appName(\"trip_count_sql\").getOrCreate()\n",
    "\n",
    "directory=\"/home/ubuntu/working/spark-examples/data/\"\n",
    "trip_files=\"trips/*\"\n",
    "\n",
    "trips_df = spark.read.csv(f\"file://{directory}/{trip_files}\", inferSchema=True, header=True)"
   ]
  },
  {
   "cell_type": "code",
   "execution_count": 2,
   "metadata": {},
   "outputs": [
    {
     "name": "stdout",
     "output_type": "stream",
     "text": [
      "root\n",
      " |-- VendorID: integer (nullable = true)\n",
      " |-- tpep_pickup_datetime: string (nullable = true)\n",
      " |-- tpep_dropoff_datetime: string (nullable = true)\n",
      " |-- passenger_count: integer (nullable = true)\n",
      " |-- trip_distance: double (nullable = true)\n",
      " |-- RatecodeID: integer (nullable = true)\n",
      " |-- store_and_fwd_flag: string (nullable = true)\n",
      " |-- PULocationID: integer (nullable = true)\n",
      " |-- DOLocationID: integer (nullable = true)\n",
      " |-- payment_type: integer (nullable = true)\n",
      " |-- fare_amount: double (nullable = true)\n",
      " |-- extra: double (nullable = true)\n",
      " |-- mta_tax: double (nullable = true)\n",
      " |-- tip_amount: double (nullable = true)\n",
      " |-- tolls_amount: double (nullable = true)\n",
      " |-- improvement_surcharge: double (nullable = true)\n",
      " |-- total_amount: double (nullable = true)\n",
      " |-- congestion_surcharge: double (nullable = true)\n",
      "\n"
     ]
    }
   ],
   "source": [
    "trips_df.printSchema()"
   ]
  },
  {
   "cell_type": "code",
   "execution_count": 3,
   "metadata": {},
   "outputs": [],
   "source": [
    "trips_df.createOrReplaceTempView(\"trips\")"
   ]
  },
  {
   "cell_type": "markdown",
   "metadata": {},
   "source": [
    "달라지는 점\n",
    "- v1에서 만든 모델은 데이터의 종류가 너무 적어서 예측 성능이 좋지 못해 과소적합이 발생\n",
    "- 데이터의 종류를 늘리는 다항 회귀를 활용\n",
    "    - $\\hat{y} =w1x1+w1x2 +...+b =WX + b$"
   ]
  },
  {
   "cell_type": "code",
   "execution_count": 4,
   "metadata": {},
   "outputs": [],
   "source": [
    "query = \"\"\"\n",
    "SELECT \n",
    "    passenger_count,\n",
    "    PULocationID as pickup_location_id,\n",
    "    DOLocationID as dropoff_location_id,\n",
    "    trip_distance,\n",
    "    HOUR(tpep_pickup_datetime) as pickup_time,\n",
    "    DATE_FORMAT(TO_DATE(tpep_pickup_datetime), 'EEEE') AS day_of_week,\n",
    "    total_amount\n",
    "FROM\n",
    "    trips\n",
    "WHERE\n",
    "    total_amount < 5000\n",
    "    AND total_amount > 0\n",
    "    AND trip_distance > 0\n",
    "    AND trip_distance < 500\n",
    "    AND passenger_count < 5\n",
    "    AND TO_DATE(tpep_pickup_datetime) >= '2021-01-01'\n",
    "    AND TO_DATE(tpep_pickup_datetime) < '2021-08-01'\n",
    "\"\"\"\n",
    "data_df = spark.sql(query)\n",
    "data_df.createOrReplaceTempView(\"data\")"
   ]
  },
  {
   "cell_type": "code",
   "execution_count": 5,
   "metadata": {},
   "outputs": [
    {
     "name": "stdout",
     "output_type": "stream",
     "text": [
      "+---------------+------------------+-------------------+-------------+-----------+-----------+------------+\n",
      "|passenger_count|pickup_location_id|dropoff_location_id|trip_distance|pickup_time|day_of_week|total_amount|\n",
      "+---------------+------------------+-------------------+-------------+-----------+-----------+------------+\n",
      "|              0|               138|                265|         16.5|          0|     Monday|       70.07|\n",
      "|              1|                68|                264|         1.13|          0|     Monday|       11.16|\n",
      "|              1|               239|                262|         2.68|          0|     Monday|       18.59|\n",
      "|              1|               186|                 91|         12.4|          0|     Monday|        43.8|\n",
      "|              2|               132|                265|          9.7|          0|     Monday|        32.3|\n",
      "|              1|               138|                141|          9.3|          0|     Monday|       43.67|\n",
      "|              1|               138|                 50|         9.58|          0|     Monday|        46.1|\n",
      "|              1|               132|                123|         16.2|          0|     Monday|        45.3|\n",
      "|              1|               140|                  7|         3.58|          0|     Monday|        19.3|\n",
      "|              1|               239|                238|         0.91|          0|     Monday|        14.8|\n",
      "|              2|               116|                 41|         2.57|          0|     Monday|        12.8|\n",
      "|              1|                74|                 41|          0.4|          0|     Monday|         5.3|\n",
      "|              1|               239|                144|         3.26|          0|     Monday|        17.3|\n",
      "|              1|               132|                 91|        13.41|          0|     Monday|       47.25|\n",
      "|              2|               132|                230|         18.3|          0|     Monday|       61.42|\n",
      "|              1|               229|                 48|         1.53|          0|     Monday|       14.16|\n",
      "|              1|                48|                 68|          2.0|          0|     Monday|        11.8|\n",
      "|              2|               132|                255|         16.6|          0|     Monday|       54.96|\n",
      "|              1|               132|                145|         15.5|          0|     Monday|       56.25|\n",
      "|              2|                79|                164|          1.3|          0|     Monday|        16.8|\n",
      "+---------------+------------------+-------------------+-------------+-----------+-----------+------------+\n",
      "only showing top 20 rows\n",
      "\n"
     ]
    }
   ],
   "source": [
    "data_df.show()"
   ]
  },
  {
   "cell_type": "code",
   "execution_count": 6,
   "metadata": {},
   "outputs": [],
   "source": [
    "train_df, test_df = data_df.randomSplit([0.8,0.2], seed=42)"
   ]
  },
  {
   "cell_type": "markdown",
   "metadata": {},
   "source": [
    "지금처럼 데이터의 양이 너무나 많고, 그 데이터에 대한 전처리를 수행 했음.\n",
    "- 시간이 매우 많이 걸리는 배치 작업\n",
    "- 추후에 다시 이 데이터를 활용한다면 다시 처음부터 전처리 하는데 시간이 많이 걸린다.\n",
    "- 어떻게 전처리가 된 데이터를 파일이나 데이터 베이스에 저장 해놓고, 나중에 다시 불러오는 것이 시간적으로 이득"
   ]
  },
  {
   "cell_type": "code",
   "execution_count": 8,
   "metadata": {},
   "outputs": [
    {
     "name": "stderr",
     "output_type": "stream",
     "text": [
      "                                                                                \r"
     ]
    }
   ],
   "source": [
    "# 파케이(parquet) 형식으로 데이터 마트를 저장\n",
    "data_dir = \"/home/ubuntu/working/spark-examples/data/ml_data_taxi\" # 로컬 디렉토리로 지정. hdfs를 사용 할 수도 있다!\n",
    "# hdfs_dir = \"hdfs://user/ubuntu/spark-taxi-data\"\n",
    "\n",
    "# Spark Dataframe의 write를 이용해서 데이터를 파일 또는 DB에 저장이 가능\n",
    "train_df.write.format(\"parquet\").save(f\"{data_dir}/train/\")\n",
    "test_df.write.format(\"parquet\").save(f\"{data_dir}/test/\")"
   ]
  },
  {
   "cell_type": "code",
   "execution_count": 9,
   "metadata": {},
   "outputs": [],
   "source": [
    "# 분산 저장된 데이터를 불러오기\n",
    "# 불러올 때 파일을 지정하는게 아니고 디렉토리를 지정하면 된다\n",
    "train_df = spark.read.parquet(f\"{data_dir}/train/\")\n",
    "test_df = spark.read.parquet(f\"{data_dir}/test/\")"
   ]
  },
  {
   "cell_type": "code",
   "execution_count": 10,
   "metadata": {},
   "outputs": [
    {
     "name": "stdout",
     "output_type": "stream",
     "text": [
      "root\n",
      " |-- passenger_count: integer (nullable = true)\n",
      " |-- pickup_location_id: integer (nullable = true)\n",
      " |-- dropoff_location_id: integer (nullable = true)\n",
      " |-- trip_distance: double (nullable = true)\n",
      " |-- pickup_time: integer (nullable = true)\n",
      " |-- day_of_week: string (nullable = true)\n",
      " |-- total_amount: double (nullable = true)\n",
      "\n"
     ]
    }
   ],
   "source": [
    "train_df.printSchema()"
   ]
  },
  {
   "cell_type": "markdown",
   "metadata": {},
   "source": [
    "# 파이프라인 구성"
   ]
  },
  {
   "cell_type": "code",
   "execution_count": 11,
   "metadata": {},
   "outputs": [],
   "source": [
    "# Pipeline에 넣을 과정(stage)를 하나씩 넣어 놓을 리스트 선언\n",
    "stages = []"
   ]
  },
  {
   "cell_type": "markdown",
   "metadata": {},
   "source": [
    "## 1. OneHotEncoding Stage\n",
    "- `pickup_location_id`\n",
    "- `ropoff_location_id`\n",
    "- `day_of_week`\n",
    "\n",
    "`pickup_location_id`, `dropoff_location_id`는 숫자 형식의 데이터!\n",
    "- 숫자 형식의 데이터는 OneHotEncoding이 되지 않는다.\n",
    "- 따라서 숫자 형식의 카테고리 데이터를 임시로 문자열로 처리하기 위히 `StringIndexer` 트랜스포머 활용"
   ]
  },
  {
   "cell_type": "code",
   "execution_count": 14,
   "metadata": {},
   "outputs": [
    {
     "data": {
      "text/plain": [
       "[StringIndexer_f30a153ac1ea,\n",
       " OneHotEncoder_66d2738eb855,\n",
       " StringIndexer_906081025d1e,\n",
       " OneHotEncoder_dd3ba8cdd6e5,\n",
       " StringIndexer_5e918472a0b9,\n",
       " OneHotEncoder_b0c3e9cd4d7b]"
      ]
     },
     "execution_count": 14,
     "metadata": {},
     "output_type": "execute_result"
    }
   ],
   "source": [
    "from pyspark.ml.feature import StringIndexer, OneHotEncoder\n",
    "\n",
    "# OneHotEncoding을 수행할 컬럼을 지정\n",
    "\n",
    "cat_features = [\n",
    "    \"pickup_location_id\",\n",
    "    \"dropoff_location_id\",\n",
    "    \"day_of_week\"\n",
    "]\n",
    "\n",
    "for c in cat_features:\n",
    "    # 1. 데이터를 문자여열 형식으로 바꿔준다.\n",
    "    # setHandleInvalid : Null 값 같은 데이터를 어떻게 처리 할지.\n",
    "    cat_indexer = StringIndexer(inputCol=c, outputCol=c+\"_idx\").setHandleInvalid(\"keep\")\n",
    "    # 2. OneHotEncoding\n",
    "    onehot_encoder = OneHotEncoder(inputCols=[cat_indexer.getOutputCol()], outputCols=[c+\"_onehot\"]) # 여러개의 입력을 받을 수 있지만(cols) 이번에는 하나씩 처리\n",
    "    stages +=[cat_indexer, onehot_encoder]\n",
    "stages # 뒤에 붙는 값은 메모리 주소값"
   ]
  },
  {
   "cell_type": "markdown",
   "metadata": {},
   "source": [
    "## 2. StandardScaler & VectorAssembler Stage\n",
    "- `passenger_count`\n",
    "- `trip_distance`\n",
    "- `pickup_time`\n",
    "\n",
    "기본적으로 스케일링 작업은 스칼라 값이 아닌, 벡터 단위로 스케일링이 일어나야 한다."
   ]
  },
  {
   "cell_type": "code",
   "execution_count": 16,
   "metadata": {},
   "outputs": [
    {
     "data": {
      "text/plain": [
       "[StringIndexer_f30a153ac1ea,\n",
       " OneHotEncoder_66d2738eb855,\n",
       " StringIndexer_906081025d1e,\n",
       " OneHotEncoder_dd3ba8cdd6e5,\n",
       " StringIndexer_5e918472a0b9,\n",
       " OneHotEncoder_b0c3e9cd4d7b,\n",
       " VectorAssembler_d2eab73faa90,\n",
       " StandardScaler_903a2da27230,\n",
       " VectorAssembler_af041fc15bd8,\n",
       " StandardScaler_b38efc26c7e3,\n",
       " VectorAssembler_6bec0a0073c1,\n",
       " StandardScaler_6381f7fb9fb9]"
      ]
     },
     "execution_count": 16,
     "metadata": {},
     "output_type": "execute_result"
    }
   ],
   "source": [
    "from pyspark.ml.feature import VectorAssembler, StandardScaler\n",
    "\n",
    "num_features = [\n",
    "    \"passenger_count\",\n",
    "    \"trip_distance\", \n",
    "    \"pickup_time\"\n",
    "]\n",
    "\n",
    "for n in num_features:\n",
    "    # 1. 각각의 컬럼의 데이터를 벡터화. ex) 1.5 -> [1.5]\n",
    "    num_assembler = VectorAssembler(inputCols=[n], outputCol=n+\"_vector\")\n",
    "\n",
    "    # 2. StandardScaling 수행\n",
    "    num_scaler = StandardScaler(inputCol=num_assembler.getOutputCol(), outputCol=n+\"_scaled\")\n",
    "\n",
    "    stages += [num_assembler, num_scaler]\n",
    "\n",
    "stages"
   ]
  },
  {
   "cell_type": "markdown",
   "metadata": {},
   "source": [
    "머신러닝을 위한 Preprocessing된 결과물 벡터를 하나로 합쳐야 훈련 가능한 데이터가 됩니다. `VectorAssembler`를 사용해서 합친다."
   ]
  },
  {
   "cell_type": "code",
   "execution_count": 18,
   "metadata": {},
   "outputs": [
    {
     "data": {
      "text/plain": [
       "['pickup_location_id_onehot',\n",
       " 'dropoff_location_id_onehot',\n",
       " 'day_of_week_onehot',\n",
       " 'passenger_count_scaled',\n",
       " 'trip_distance_scaled',\n",
       " 'pickup_time_scaled']"
      ]
     },
     "execution_count": 18,
     "metadata": {},
     "output_type": "execute_result"
    }
   ],
   "source": [
    "# Assemble 할 데이터는? OneHotEncoding이 되어 있거나, Scaled된 데이터를 Assemble\n",
    "assemble_inputs = [c+\"_onehot\" for c in cat_features] + [n + \"_scaled\" for n in num_features]\n",
    "assemble_inputs"
   ]
  },
  {
   "cell_type": "code",
   "execution_count": 19,
   "metadata": {},
   "outputs": [
    {
     "data": {
      "text/plain": [
       "[StringIndexer_f30a153ac1ea,\n",
       " OneHotEncoder_66d2738eb855,\n",
       " StringIndexer_906081025d1e,\n",
       " OneHotEncoder_dd3ba8cdd6e5,\n",
       " StringIndexer_5e918472a0b9,\n",
       " OneHotEncoder_b0c3e9cd4d7b,\n",
       " VectorAssembler_d2eab73faa90,\n",
       " StandardScaler_903a2da27230,\n",
       " VectorAssembler_af041fc15bd8,\n",
       " StandardScaler_b38efc26c7e3,\n",
       " VectorAssembler_6bec0a0073c1,\n",
       " StandardScaler_6381f7fb9fb9,\n",
       " VectorAssembler_d2eea2f075ab]"
      ]
     },
     "execution_count": 19,
     "metadata": {},
     "output_type": "execute_result"
    }
   ],
   "source": [
    "total_assembler = VectorAssembler(inputCols=assemble_inputs, outputCol=\"features\")\n",
    "stages.append(total_assembler)\n",
    "stages"
   ]
  },
  {
   "cell_type": "code",
   "execution_count": null,
   "metadata": {},
   "outputs": [],
   "source": []
  }
 ],
 "metadata": {
  "kernelspec": {
   "display_name": "spark-env-324",
   "language": "python",
   "name": "python3"
  },
  "language_info": {
   "codemirror_mode": {
    "name": "ipython",
    "version": 3
   },
   "file_extension": ".py",
   "mimetype": "text/x-python",
   "name": "python",
   "nbconvert_exporter": "python",
   "pygments_lexer": "ipython3",
   "version": "3.8.17"
  },
  "orig_nbformat": 4
 },
 "nbformat": 4,
 "nbformat_minor": 2
}
