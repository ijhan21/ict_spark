{
 "cells": [
  {
   "cell_type": "code",
   "execution_count": 1,
   "id": "5f55c441",
   "metadata": {},
   "outputs": [
    {
     "name": "stderr",
     "output_type": "stream",
     "text": [
      "Setting default log level to \"WARN\".\n",
      "To adjust logging level use sc.setLogLevel(newLevel). For SparkR, use setLogLevel(newLevel).\n",
      "23/07/22 14:21:50 WARN NativeCodeLoader: Unable to load native-hadoop library for your platform... using builtin-java classes where applicable\n"
     ]
    }
   ],
   "source": [
    "from pyspark import SparkConf, SparkContext\n",
    "# SparkConf : 환경 설정\n",
    "# SparkContext : 실제 개발 프로그램. 드라이브\n",
    "#conf = SparkConf().setMaster(\"yarn\") # yarn으로 하면 자동으로 하둡을 사용하게 된다\n",
    "conf = SparkConf().setMaster(\"local\").setAppName(\"transformations_actions\")\n",
    "sc = SparkContext(conf=conf) # sc 변수명 바꾸면 안된다. 실무에서는 스파크 서브밋 이라는 것을 사용한다. 그때 필수"
   ]
  },
  {
   "cell_type": "code",
   "execution_count": 2,
   "id": "0deba905",
   "metadata": {},
   "outputs": [
    {
     "data": {
      "text/plain": [
       "ParallelCollectionRDD[0] at readRDDFromFile at PythonRDD.scala:287"
      ]
     },
     "execution_count": 2,
     "metadata": {},
     "output_type": "execute_result"
    }
   ],
   "source": [
    "foods = sc.parallelize([\n",
    "    \"짜장면\", \"마라탕\", \"짬뽕\", \"떡볶이\", \"쌀국수\", \"짬뽕\", \"짜장면\", \"짜장면\", \"짜장면\", \"라면\", \"우동\", \"라면\"\n",
    "])\n",
    "foods"
   ]
  },
  {
   "cell_type": "code",
   "execution_count": 3,
   "id": "910291fb",
   "metadata": {},
   "outputs": [
    {
     "name": "stderr",
     "output_type": "stream",
     "text": [
      "                                                                                \r"
     ]
    },
    {
     "data": {
      "text/plain": [
       "['짜장면', '마라탕', '짬뽕', '떡볶이', '쌀국수', '짬뽕', '짜장면', '짜장면', '짜장면', '라면', '우동', '라면']"
      ]
     },
     "execution_count": 3,
     "metadata": {},
     "output_type": "execute_result"
    }
   ],
   "source": [
    "foods.collect()"
   ]
  },
  {
   "cell_type": "code",
   "execution_count": 4,
   "id": "251ffc7f",
   "metadata": {},
   "outputs": [
    {
     "name": "stderr",
     "output_type": "stream",
     "text": [
      "                                                                                \r"
     ]
    },
    {
     "data": {
      "text/plain": [
       "defaultdict(int,\n",
       "            {'짜장면': 4,\n",
       "             '마라탕': 1,\n",
       "             '짬뽕': 2,\n",
       "             '떡볶이': 1,\n",
       "             '쌀국수': 1,\n",
       "             '라면': 2,\n",
       "             '우동': 1})"
      ]
     },
     "execution_count": 4,
     "metadata": {},
     "output_type": "execute_result"
    }
   ],
   "source": [
    "foods.countByValue()"
   ]
  },
  {
   "cell_type": "code",
   "execution_count": 5,
   "id": "41984d03",
   "metadata": {},
   "outputs": [
    {
     "data": {
      "text/plain": [
       "['짜장면', '마라탕', '짬뽕']"
      ]
     },
     "execution_count": 5,
     "metadata": {},
     "output_type": "execute_result"
    }
   ],
   "source": [
    "foods.take(3)"
   ]
  },
  {
   "cell_type": "code",
   "execution_count": 6,
   "id": "395900d3",
   "metadata": {},
   "outputs": [
    {
     "data": {
      "text/plain": [
       "'짜장면'"
      ]
     },
     "execution_count": 6,
     "metadata": {},
     "output_type": "execute_result"
    }
   ],
   "source": [
    "foods.first()"
   ]
  },
  {
   "cell_type": "code",
   "execution_count": 7,
   "id": "5a6439c6",
   "metadata": {},
   "outputs": [
    {
     "data": {
      "text/plain": [
       "12"
      ]
     },
     "execution_count": 7,
     "metadata": {},
     "output_type": "execute_result"
    }
   ],
   "source": [
    "foods.count()"
   ]
  },
  {
   "cell_type": "markdown",
   "id": "4d453aeb",
   "metadata": {},
   "source": [
    "5. worker에서 작업하고 master에게 리턴하지 않는 함수\n",
    "- foreach\n",
    "- RDD에 있는 데이터를 worker에 보낼 때, 처리할 때 사용"
   ]
  },
  {
   "cell_type": "code",
   "execution_count": 8,
   "id": "1bec40f2",
   "metadata": {},
   "outputs": [
    {
     "name": "stderr",
     "output_type": "stream",
     "text": [
      "짜장면 냠냠\n",
      "마라탕 냠냠\n",
      "짬뽕 냠냠\n",
      "떡볶이 냠냠\n",
      "쌀국수 냠냠\n",
      "짬뽕 냠냠\n",
      "짜장면 냠냠\n",
      "짜장면 냠냠\n",
      "짜장면 냠냠\n",
      "라면 냠냠\n",
      "우동 냠냠\n",
      "라면 냠냠\n"
     ]
    }
   ],
   "source": [
    "foods.foreach(lambda x: print(x+\" 냠냠\"))"
   ]
  },
  {
   "cell_type": "code",
   "execution_count": 9,
   "id": "cf028553",
   "metadata": {},
   "outputs": [
    {
     "data": {
      "text/plain": [
       "ParallelCollectionRDD[6] at readRDDFromFile at PythonRDD.scala:287"
      ]
     },
     "execution_count": 9,
     "metadata": {},
     "output_type": "execute_result"
    }
   ],
   "source": [
    "sample_rdd = sc.parallelize([1,2,3])\n",
    "sample_rdd"
   ]
  },
  {
   "cell_type": "markdown",
   "id": "c1a17026",
   "metadata": {},
   "source": [
    "1. map(<func>)\n",
    "- 기존 RDD에서 데이터를 하나씩 꺼내서 <func>함수가 적용된 새로운 RDD를 만들어 낸다.\n",
    "- func 이 곧 Task가 된다"
   ]
  },
  {
   "cell_type": "code",
   "execution_count": 10,
   "id": "b61ac893",
   "metadata": {},
   "outputs": [
    {
     "data": {
      "text/plain": [
       "PythonRDD[7] at RDD at PythonRDD.scala:53"
      ]
     },
     "execution_count": 10,
     "metadata": {},
     "output_type": "execute_result"
    }
   ],
   "source": [
    "sample_rdd2 = sample_rdd.map(lambda x : x+2)\n",
    "sample_rdd2"
   ]
  },
  {
   "cell_type": "code",
   "execution_count": 11,
   "id": "2ec18cbb",
   "metadata": {},
   "outputs": [
    {
     "data": {
      "text/plain": [
       "[3, 4, 5]"
      ]
     },
     "execution_count": 11,
     "metadata": {},
     "output_type": "execute_result"
    }
   ],
   "source": [
    "sample_rdd2.collect()"
   ]
  },
  {
   "cell_type": "markdown",
   "id": "ba9a23a4",
   "metadata": {},
   "source": [
    "2.'flatMap(< func >)'\n",
    "- 'map'함수와 매우 흡사하나, 'flatMap'함수는 'map'의 모든 결과를 평탄화"
   ]
  },
  {
   "cell_type": "code",
   "execution_count": 12,
   "id": "82c66481",
   "metadata": {},
   "outputs": [],
   "source": [
    "movies = [\n",
    "    \"그린 북\",\n",
    "    \"매트릭스\",\n",
    "    \"토이 스토리\",\n",
    "    \"캐스트 어웨이\",\n",
    "    \"포드 V 페라리\",\n",
    "    \"보헤미안 랩소디\",\n",
    "    \"빽 투 더 퓨처\",\n",
    "    \"반지의 제왕\",\n",
    "    \"죽은 시인의 사회\"\n",
    "]"
   ]
  },
  {
   "cell_type": "code",
   "execution_count": 13,
   "id": "9e6db6aa",
   "metadata": {},
   "outputs": [
    {
     "data": {
      "text/plain": [
       "ParallelCollectionRDD[8] at readRDDFromFile at PythonRDD.scala:287"
      ]
     },
     "execution_count": 13,
     "metadata": {},
     "output_type": "execute_result"
    }
   ],
   "source": [
    "moviesRDD = sc.parallelize(movies)\n",
    "moviesRDD"
   ]
  },
  {
   "cell_type": "code",
   "execution_count": 14,
   "id": "0d4b9836",
   "metadata": {},
   "outputs": [
    {
     "data": {
      "text/plain": [
       "['ab', 'c']"
      ]
     },
     "execution_count": 14,
     "metadata": {},
     "output_type": "execute_result"
    }
   ],
   "source": [
    "'ab c'.split()"
   ]
  },
  {
   "cell_type": "code",
   "execution_count": 15,
   "id": "d0a331f8",
   "metadata": {},
   "outputs": [
    {
     "data": {
      "text/plain": [
       "[['그린', '북'],\n",
       " ['매트릭스'],\n",
       " ['토이', '스토리'],\n",
       " ['캐스트', '어웨이'],\n",
       " ['포드', 'V', '페라리'],\n",
       " ['보헤미안', '랩소디'],\n",
       " ['빽', '투', '더', '퓨처'],\n",
       " ['반지의', '제왕'],\n",
       " ['죽은', '시인의', '사회']]"
      ]
     },
     "execution_count": 15,
     "metadata": {},
     "output_type": "execute_result"
    }
   ],
   "source": [
    "mapMovies = moviesRDD.map(lambda x : x.split())\n",
    "mapMovies.collect()"
   ]
  },
  {
   "cell_type": "code",
   "execution_count": 16,
   "id": "0069fde3",
   "metadata": {},
   "outputs": [
    {
     "data": {
      "text/plain": [
       "['그린',\n",
       " '북',\n",
       " '매트릭스',\n",
       " '토이',\n",
       " '스토리',\n",
       " '캐스트',\n",
       " '어웨이',\n",
       " '포드',\n",
       " 'V',\n",
       " '페라리',\n",
       " '보헤미안',\n",
       " '랩소디',\n",
       " '빽',\n",
       " '투',\n",
       " '더',\n",
       " '퓨처',\n",
       " '반지의',\n",
       " '제왕',\n",
       " '죽은',\n",
       " '시인의',\n",
       " '사회']"
      ]
     },
     "execution_count": 16,
     "metadata": {},
     "output_type": "execute_result"
    }
   ],
   "source": [
    "flatMovies = moviesRDD.flatMap(lambda x : x.split())\n",
    "flatMovies.collect()"
   ]
  },
  {
   "cell_type": "markdown",
   "id": "18d2841d",
   "metadata": {},
   "source": [
    "## Wide Transformations\n",
    "- 다른 파티션에 있는 (또는 다른 노드의 파티션) 데이터를 사용해서 변환하는 방법\n",
    "- 데이터가 파티션을 넘나들 수 있다.\n",
    "- 네트워크 통신을 동반할 가능성이 있기 때문에 느리다."
   ]
  },
  {
   "cell_type": "code",
   "execution_count": 17,
   "id": "2f35bc4e",
   "metadata": {},
   "outputs": [
    {
     "data": {
      "text/plain": [
       "ParallelCollectionRDD[11] at readRDDFromFile at PythonRDD.scala:287"
      ]
     },
     "execution_count": 17,
     "metadata": {},
     "output_type": "execute_result"
    }
   ],
   "source": [
    "foods = sc.parallelize([\n",
    "    \"짜장면\", \"마라탕\", \"짬뽕\", \"떡볶이\", \"쌀국수\", \"짬뽕\", \"짜장면\", \"짜장면\", \"짜장면\", \"라면\", \"우동\", \"라면\"\n",
    "])\n",
    "foods"
   ]
  },
  {
   "cell_type": "markdown",
   "id": "ba841dc6",
   "metadata": {},
   "source": [
    "- 'groupBy( < func > )'\n",
    "    - ' < func > ' : 항상 기준을 마련해야 한다.   "
   ]
  },
  {
   "cell_type": "code",
   "execution_count": 18,
   "id": "531e1e3e",
   "metadata": {},
   "outputs": [],
   "source": [
    "# 첫 글자 기준\n",
    "results = foods.groupBy(lambda x : x[0])"
   ]
  },
  {
   "cell_type": "code",
   "execution_count": 24,
   "id": "245c1a0b",
   "metadata": {},
   "outputs": [
    {
     "name": "stdout",
     "output_type": "stream",
     "text": [
      "짜 ['짜장면', '짜장면', '짜장면', '짜장면']\n",
      "마 ['마라탕']\n",
      "짬 ['짬뽕', '짬뽕']\n",
      "떡 ['떡볶이']\n",
      "쌀 ['쌀국수']\n",
      "라 ['라면', '라면']\n",
      "우 ['우동']\n"
     ]
    }
   ],
   "source": [
    "for (k, v) in results.collect():\n",
    "    print(k, list(v))"
   ]
  },
  {
   "cell_type": "code",
   "execution_count": 25,
   "id": "e2a9d207",
   "metadata": {},
   "outputs": [],
   "source": [
    "sc.stop()"
   ]
  }
 ],
 "metadata": {
  "kernelspec": {
   "display_name": "Python 3 (ipykernel)",
   "language": "python",
   "name": "python3"
  },
  "language_info": {
   "codemirror_mode": {
    "name": "ipython",
    "version": 3
   },
   "file_extension": ".py",
   "mimetype": "text/x-python",
   "name": "python",
   "nbconvert_exporter": "python",
   "pygments_lexer": "ipython3",
   "version": "3.8.17"
  }
 },
 "nbformat": 4,
 "nbformat_minor": 5
}
