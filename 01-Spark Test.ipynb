{
 "cells": [
  {
   "cell_type": "code",
   "execution_count": 1,
   "id": "bcdfa41b",
   "metadata": {},
   "outputs": [],
   "source": [
    "from pyspark import SparkConf, SparkContext"
   ]
  },
  {
   "cell_type": "code",
   "execution_count": 2,
   "id": "5ddd202c",
   "metadata": {},
   "outputs": [],
   "source": [
    "# Sparkconf : 스파크 실행 환경 설정 클래스\n",
    "# SparkContext : DriverProgram 실행 환경 구성을 위한 클래스"
   ]
  },
  {
   "cell_type": "code",
   "execution_count": null,
   "id": "558168f6",
   "metadata": {},
   "outputs": [],
   "source": [
    "conf = SparkConf().setMaster(\"local\").setAppName(\"country-student-count\")\n",
    "\n",
    "# 변수명을 항상 sc로 놓을 것\n",
    "sc = SparkContext(conf=conf)"
   ]
  },
  {
   "cell_type": "code",
   "execution_count": null,
   "id": "f5b15dd3",
   "metadata": {},
   "outputs": [],
   "source": [
    "sc"
   ]
  },
  {
   "cell_type": "code",
   "execution_count": null,
   "id": "95c3efc2",
   "metadata": {},
   "outputs": [],
   "source": [
    "filepath = \"/home/ubuntu/working/spark-examples/data/xAPI-Edu-Data.csv\""
   ]
  },
  {
   "cell_type": "code",
   "execution_count": null,
   "id": "001745f9",
   "metadata": {},
   "outputs": [],
   "source": [
    "lines = sc.textFile(f\"file:///{filepath}\")"
   ]
  },
  {
   "cell_type": "code",
   "execution_count": null,
   "id": "808a981f",
   "metadata": {},
   "outputs": [],
   "source": [
    "header = lines.first()\n",
    "header"
   ]
  },
  {
   "cell_type": "code",
   "execution_count": null,
   "id": "2c8aec36",
   "metadata": {
    "scrolled": true
   },
   "outputs": [],
   "source": [
    "datas = lines.filter(lambda row : row != header)\n",
    "datas"
   ]
  },
  {
   "cell_type": "code",
   "execution_count": null,
   "id": "c38191c6",
   "metadata": {},
   "outputs": [],
   "source": [
    "countries = datas.map(lambda row : row.split(\",\")[2])"
   ]
  },
  {
   "cell_type": "code",
   "execution_count": null,
   "id": "3af213b4",
   "metadata": {},
   "outputs": [],
   "source": [
    "result = countries.countByValue()\n",
    "result"
   ]
  },
  {
   "cell_type": "code",
   "execution_count": null,
   "id": "efa67711",
   "metadata": {},
   "outputs": [],
   "source": [
    "sc.stop()"
   ]
  }
 ],
 "metadata": {
  "kernelspec": {
   "display_name": "Python 3 (ipykernel)",
   "language": "python",
   "name": "python3"
  },
  "language_info": {
   "codemirror_mode": {
    "name": "ipython",
    "version": 3
   },
   "file_extension": ".py",
   "mimetype": "text/x-python",
   "name": "python",
   "nbconvert_exporter": "python",
   "pygments_lexer": "ipython3",
   "version": "3.8.17"
  }
 },
 "nbformat": 4,
 "nbformat_minor": 5
}
