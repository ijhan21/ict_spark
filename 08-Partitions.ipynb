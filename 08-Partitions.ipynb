{
 "cells": [
  {
   "cell_type": "code",
   "execution_count": 1,
   "id": "cf0f31d8",
   "metadata": {},
   "outputs": [
    {
     "name": "stderr",
     "output_type": "stream",
     "text": [
      "Setting default log level to \"WARN\".\n",
      "To adjust logging level use sc.setLogLevel(newLevel). For SparkR, use setLogLevel(newLevel).\n",
      "23/07/25 20:49:35 WARN NativeCodeLoader: Unable to load native-hadoop library for your platform... using builtin-java classes where applicable\n"
     ]
    }
   ],
   "source": [
    "from pyspark import SparkConf, SparkContext\n",
    "\n",
    "conf = SparkConf().setMaster(\"local\").setAppName(\"restaurant-review-average\")\n",
    "sc = SparkContext(conf=conf)"
   ]
  },
  {
   "cell_type": "code",
   "execution_count": 3,
   "id": "8b8f1fe0",
   "metadata": {},
   "outputs": [
    {
     "data": {
      "text/plain": [
       "[(1, 1), (2, 4), (3, 27), (4, 256), (2, 4), (4, 256), (1, 1)]"
      ]
     },
     "execution_count": 3,
     "metadata": {},
     "output_type": "execute_result"
    }
   ],
   "source": [
    "pairs = sc.parallelize([\n",
    "    1,2,3,4,2,4,1\n",
    "]).map(lambda x : (x, x**x))\n",
    "pairs.collect()"
   ]
  },
  {
   "cell_type": "code",
   "execution_count": 4,
   "id": "e1fe68b0",
   "metadata": {},
   "outputs": [
    {
     "data": {
      "text/plain": [
       "[[(1, 1), (2, 4), (3, 27), (4, 256), (2, 4), (4, 256), (1, 1)]]"
      ]
     },
     "execution_count": 4,
     "metadata": {},
     "output_type": "execute_result"
    }
   ],
   "source": [
    "# 기본 파티션 확인\n",
    "pairs.glom().collect()"
   ]
  },
  {
   "cell_type": "code",
   "execution_count": 5,
   "id": "1d418fcf",
   "metadata": {},
   "outputs": [
    {
     "name": "stderr",
     "output_type": "stream",
     "text": [
      "                                                                                \r"
     ]
    },
    {
     "data": {
      "text/plain": [
       "[[(2, 4), (4, 256), (2, 4), (4, 256)], [(1, 1), (3, 27), (1, 1)]]"
      ]
     },
     "execution_count": 5,
     "metadata": {},
     "output_type": "execute_result"
    }
   ],
   "source": [
    "# 파티션을 2개로 나누기\n",
    "pairs.partitionBy(2).glom().collect() #짝수끼리, 홀수끼리 잘 모였다"
   ]
  },
  {
   "cell_type": "code",
   "execution_count": 8,
   "id": "577bc4eb",
   "metadata": {},
   "outputs": [
    {
     "data": {
      "text/plain": [
       "[[(2, 4), (4, 256), (2, 4), (4, 256)], [(1, 1), (3, 27), (1, 1)]]"
      ]
     },
     "execution_count": 8,
     "metadata": {},
     "output_type": "execute_result"
    }
   ],
   "source": [
    "# 개발자가 직접 파티션 배치 함수를 만들 수 있다.(Hash Function Custom)\n",
    "pairs.partitionBy(2, lambda x : x%2).glom().collect()"
   ]
  },
  {
   "cell_type": "code",
   "execution_count": 9,
   "id": "468a4b07",
   "metadata": {},
   "outputs": [
    {
     "data": {
      "text/plain": [
       "[[(2, 4), (3, 27), (2, 4)], [(1, 1), (4, 256), (4, 256), (1, 1)]]"
      ]
     },
     "execution_count": 9,
     "metadata": {},
     "output_type": "execute_result"
    }
   ],
   "source": [
    "# 개발자가 직접 파티션 배치 함수를 만들 수 있다.(Hash Function Custom)\n",
    "pairs.partitionBy(2, lambda x : x%3).glom().collect()"
   ]
  },
  {
   "cell_type": "markdown",
   "id": "5255f06d",
   "metadata": {},
   "source": [
    "파티션을 만든 후에 `persist()`를 하지 않으면 다음 연산에 rdd가 사용 될 때마다 파티션을 만드는 코드가 계속 반복된다.\n",
    "- 셔플링이 반복적으로 일어날 수 있다."
   ]
  },
  {
   "cell_type": "code",
   "execution_count": 12,
   "id": "e6fe7cb7",
   "metadata": {},
   "outputs": [
    {
     "data": {
      "text/plain": [
       "[[(2, 4), (3, 27), (2, 4)], [(1, 1), (4, 256), (4, 256), (1, 1)]]"
      ]
     },
     "execution_count": 12,
     "metadata": {},
     "output_type": "execute_result"
    }
   ],
   "source": [
    "pairs.partitionBy(2, lambda x : x%3).persist().glom().collect() # 이게 정석이다"
   ]
  },
  {
   "cell_type": "code",
   "execution_count": 13,
   "id": "87445127",
   "metadata": {},
   "outputs": [],
   "source": [
    "sc.stop()"
   ]
  }
 ],
 "metadata": {
  "kernelspec": {
   "display_name": "Python 3 (ipykernel)",
   "language": "python",
   "name": "python3"
  },
  "language_info": {
   "codemirror_mode": {
    "name": "ipython",
    "version": 3
   },
   "file_extension": ".py",
   "mimetype": "text/x-python",
   "name": "python",
   "nbconvert_exporter": "python",
   "pygments_lexer": "ipython3",
   "version": "3.8.17"
  }
 },
 "nbformat": 4,
 "nbformat_minor": 5
}
