{
 "cells": [
  {
   "cell_type": "code",
   "execution_count": 1,
   "id": "f68cb789",
   "metadata": {},
   "outputs": [
    {
     "name": "stderr",
     "output_type": "stream",
     "text": [
      "Setting default log level to \"WARN\".\n",
      "To adjust logging level use sc.setLogLevel(newLevel). For SparkR, use setLogLevel(newLevel).\n",
      "23/07/22 11:11:46 WARN NativeCodeLoader: Unable to load native-hadoop library for your platform... using builtin-java classes where applicable\n"
     ]
    }
   ],
   "source": [
    "from pyspark import SparkConf, SparkContext\n",
    "# SparkConf : 환경 설정\n",
    "# SparkContext : 실제 개발 프로그램. 드라이브\n",
    "#conf = SparkConf().setMaster(\"yarn\") # yarn으로 하면 자동으로 하둡을 사용하게 된다\n",
    "conf = SparkConf().setMaster(\"local\")\n",
    "sc = SparkContext(conf=conf) # sc 변수명 바꾸면 안된다. 실무에서는 스파크 서브밋 이라는 것을 사용한다. 그때 필수"
   ]
  },
  {
   "cell_type": "code",
   "execution_count": 2,
   "id": "3a22ace1",
   "metadata": {},
   "outputs": [],
   "source": [
    "filepath='/home/ubuntu/working/spark-examples/data/restaurant_reviews.csv'\n",
    "lines = sc.textFile(f\"file:///{filepath}\")"
   ]
  },
  {
   "cell_type": "code",
   "execution_count": 3,
   "id": "0a9d0f51",
   "metadata": {},
   "outputs": [
    {
     "name": "stderr",
     "output_type": "stream",
     "text": [
      "                                                                                \r"
     ]
    },
    {
     "data": {
      "text/plain": [
       "['id,item,cateogry,reviews,',\n",
       " '0,짜장면,중식,125,',\n",
       " '1,짬뽕,중식,235,',\n",
       " '2,김밥,분식,32,',\n",
       " '3,떡볶이,분식,534,',\n",
       " '4,라멘,일식,223,',\n",
       " '5,돈가스,일식,52,',\n",
       " '6,우동,일식,12,',\n",
       " '7,쌀국수,아시안,312,',\n",
       " '8,햄버거,패스트푸드,12,',\n",
       " '9,치킨,패스트푸드,23']"
      ]
     },
     "execution_count": 3,
     "metadata": {},
     "output_type": "execute_result"
    }
   ],
   "source": [
    "lines.collect()"
   ]
  },
  {
   "cell_type": "code",
   "execution_count": 4,
   "id": "81bbc0e2",
   "metadata": {},
   "outputs": [
    {
     "name": "stderr",
     "output_type": "stream",
     "text": [
      "                                                                                \r"
     ]
    },
    {
     "data": {
      "text/plain": [
       "'id,item,cateogry,reviews,'"
      ]
     },
     "execution_count": 4,
     "metadata": {},
     "output_type": "execute_result"
    }
   ],
   "source": [
    "header = lines.first()\n",
    "header"
   ]
  },
  {
   "cell_type": "code",
   "execution_count": 5,
   "id": "55f16e3b",
   "metadata": {},
   "outputs": [
    {
     "data": {
      "text/plain": [
       "PythonRDD[3] at RDD at PythonRDD.scala:53"
      ]
     },
     "execution_count": 5,
     "metadata": {},
     "output_type": "execute_result"
    }
   ],
   "source": [
    "datas = lines.filter(lambda row : row !=header)\n",
    "datas"
   ]
  },
  {
   "cell_type": "code",
   "execution_count": 6,
   "id": "58a90ada",
   "metadata": {},
   "outputs": [
    {
     "data": {
      "text/plain": [
       "['0,짜장면,중식,125,',\n",
       " '1,짬뽕,중식,235,',\n",
       " '2,김밥,분식,32,',\n",
       " '3,떡볶이,분식,534,',\n",
       " '4,라멘,일식,223,',\n",
       " '5,돈가스,일식,52,',\n",
       " '6,우동,일식,12,',\n",
       " '7,쌀국수,아시안,312,',\n",
       " '8,햄버거,패스트푸드,12,',\n",
       " '9,치킨,패스트푸드,23']"
      ]
     },
     "execution_count": 6,
     "metadata": {},
     "output_type": "execute_result"
    }
   ],
   "source": [
    "datas.collect()"
   ]
  },
  {
   "cell_type": "code",
   "execution_count": 7,
   "id": "790626ee",
   "metadata": {},
   "outputs": [],
   "source": [
    "# transformation은 task이고 함수로 정의한다.\n",
    "def parse_task(row):\n",
    "    fields = row.split(',')\n",
    "    \n",
    "    key = fields[2]\n",
    "    value = int(fields[3])\n",
    "    \n",
    "    return key, value"
   ]
  },
  {
   "cell_type": "code",
   "execution_count": 8,
   "id": "98c85529",
   "metadata": {},
   "outputs": [
    {
     "data": {
      "text/plain": [
       "('아시안', 312)"
      ]
     },
     "execution_count": 8,
     "metadata": {},
     "output_type": "execute_result"
    }
   ],
   "source": [
    "parse_task('7,쌀국수,아시안,312,')"
   ]
  },
  {
   "cell_type": "code",
   "execution_count": 11,
   "id": "1c8bae75",
   "metadata": {},
   "outputs": [
    {
     "data": {
      "text/plain": [
       "PythonRDD[5] at RDD at PythonRDD.scala:53"
      ]
     },
     "execution_count": 11,
     "metadata": {},
     "output_type": "execute_result"
    }
   ],
   "source": [
    "category_reviews_add = datas.map(parse_task)\n",
    "category_reviews_add"
   ]
  },
  {
   "cell_type": "code",
   "execution_count": 13,
   "id": "8e90d065",
   "metadata": {},
   "outputs": [
    {
     "data": {
      "text/plain": [
       "[('중식', 125),\n",
       " ('중식', 235),\n",
       " ('분식', 32),\n",
       " ('분식', 534),\n",
       " ('일식', 223),\n",
       " ('일식', 52),\n",
       " ('일식', 12),\n",
       " ('아시안', 312),\n",
       " ('패스트푸드', 12),\n",
       " ('패스트푸드', 23)]"
      ]
     },
     "execution_count": 13,
     "metadata": {},
     "output_type": "execute_result"
    }
   ],
   "source": [
    "category_reviews_add.collect()"
   ]
  },
  {
   "cell_type": "code",
   "execution_count": 19,
   "id": "fd59a4e0",
   "metadata": {},
   "outputs": [
    {
     "data": {
      "text/plain": [
       "PythonRDD[6] at RDD at PythonRDD.scala:53"
      ]
     },
     "execution_count": 19,
     "metadata": {},
     "output_type": "execute_result"
    }
   ],
   "source": [
    "category_review_count_add = category_reviews_add.map(lambda row:(row[0],(row[1],1)))\n",
    "category_review_count_add"
   ]
  },
  {
   "cell_type": "code",
   "execution_count": 20,
   "id": "83b5a288",
   "metadata": {},
   "outputs": [
    {
     "data": {
      "text/plain": [
       "[('중식', (125, 1)),\n",
       " ('중식', (235, 1)),\n",
       " ('분식', (32, 1)),\n",
       " ('분식', (534, 1)),\n",
       " ('일식', (223, 1)),\n",
       " ('일식', (52, 1)),\n",
       " ('일식', (12, 1)),\n",
       " ('아시안', (312, 1)),\n",
       " ('패스트푸드', (12, 1)),\n",
       " ('패스트푸드', (23, 1))]"
      ]
     },
     "execution_count": 20,
     "metadata": {},
     "output_type": "execute_result"
    }
   ],
   "source": [
    "category_review_count_add.collect()"
   ]
  },
  {
   "cell_type": "code",
   "execution_count": 22,
   "id": "277e6a24",
   "metadata": {},
   "outputs": [
    {
     "data": {
      "text/plain": [
       "PythonRDD[7] at RDD at PythonRDD.scala:53"
      ]
     },
     "execution_count": 22,
     "metadata": {},
     "output_type": "execute_result"
    }
   ],
   "source": [
    "category_review_count_add = category_reviews_add.mapValues(lambda x :(x,1)) # 기본적으로 앞에 값을 키로 생각함. 밸류값만을 다루는 함수 mapValues\n",
    "category_review_count_add"
   ]
  },
  {
   "cell_type": "code",
   "execution_count": 23,
   "id": "418f4b24",
   "metadata": {},
   "outputs": [
    {
     "data": {
      "text/plain": [
       "[('중식', (125, 1)),\n",
       " ('중식', (235, 1)),\n",
       " ('분식', (32, 1)),\n",
       " ('분식', (534, 1)),\n",
       " ('일식', (223, 1)),\n",
       " ('일식', (52, 1)),\n",
       " ('일식', (12, 1)),\n",
       " ('아시안', (312, 1)),\n",
       " ('패스트푸드', (12, 1)),\n",
       " ('패스트푸드', (23, 1))]"
      ]
     },
     "execution_count": 23,
     "metadata": {},
     "output_type": "execute_result"
    }
   ],
   "source": [
    "category_review_count_add.collect()"
   ]
  },
  {
   "cell_type": "code",
   "execution_count": 25,
   "id": "89e4221e",
   "metadata": {},
   "outputs": [
    {
     "data": {
      "text/plain": [
       "PythonRDD[12] at RDD at PythonRDD.scala:53"
      ]
     },
     "execution_count": 25,
     "metadata": {},
     "output_type": "execute_result"
    }
   ],
   "source": [
    "reduced = category_review_count_add.reduceByKey(lambda a, b : (a[0]+b[0], a[1]+b[1]))\n",
    "reduced"
   ]
  },
  {
   "cell_type": "code",
   "execution_count": 26,
   "id": "399f1719",
   "metadata": {},
   "outputs": [
    {
     "name": "stderr",
     "output_type": "stream",
     "text": [
      "                                                                                \r"
     ]
    },
    {
     "data": {
      "text/plain": [
       "[('중식', (360, 2)),\n",
       " ('분식', (566, 2)),\n",
       " ('일식', (287, 3)),\n",
       " ('아시안', (312, 1)),\n",
       " ('패스트푸드', (35, 2))]"
      ]
     },
     "execution_count": 26,
     "metadata": {},
     "output_type": "execute_result"
    }
   ],
   "source": [
    "reduced.collect()"
   ]
  },
  {
   "cell_type": "code",
   "execution_count": 27,
   "id": "a2562901",
   "metadata": {},
   "outputs": [
    {
     "data": {
      "text/plain": [
       "PythonRDD[13] at RDD at PythonRDD.scala:53"
      ]
     },
     "execution_count": 27,
     "metadata": {},
     "output_type": "execute_result"
    }
   ],
   "source": [
    "mean_reduced = reduced.mapValues(lambda x:x[0]/x[1])\n",
    "mean_reduced"
   ]
  },
  {
   "cell_type": "code",
   "execution_count": 28,
   "id": "aed194e7",
   "metadata": {},
   "outputs": [
    {
     "data": {
      "text/plain": [
       "[('중식', 180.0),\n",
       " ('분식', 283.0),\n",
       " ('일식', 95.66666666666667),\n",
       " ('아시안', 312.0),\n",
       " ('패스트푸드', 17.5)]"
      ]
     },
     "execution_count": 28,
     "metadata": {},
     "output_type": "execute_result"
    }
   ],
   "source": [
    "mean_reduced.collect()"
   ]
  },
  {
   "cell_type": "code",
   "execution_count": 29,
   "id": "a61ae878",
   "metadata": {},
   "outputs": [],
   "source": [
    "# shuffling : 데이터가 키에 따라 썪여서 모이는 것. 파티션끼리 데이터 교환이 이루어 진다"
   ]
  },
  {
   "cell_type": "code",
   "execution_count": 30,
   "id": "4a93d9e3",
   "metadata": {},
   "outputs": [],
   "source": [
    "sc.stop()"
   ]
  }
 ],
 "metadata": {
  "kernelspec": {
   "display_name": "Python 3 (ipykernel)",
   "language": "python",
   "name": "python3"
  },
  "language_info": {
   "codemirror_mode": {
    "name": "ipython",
    "version": 3
   },
   "file_extension": ".py",
   "mimetype": "text/x-python",
   "name": "python",
   "nbconvert_exporter": "python",
   "pygments_lexer": "ipython3",
   "version": "3.8.17"
  }
 },
 "nbformat": 4,
 "nbformat_minor": 5
}
