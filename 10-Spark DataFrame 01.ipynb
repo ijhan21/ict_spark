{
 "cells": [
  {
   "cell_type": "code",
   "execution_count": 6,
   "id": "8daa6efb",
   "metadata": {},
   "outputs": [
    {
     "name": "stderr",
     "output_type": "stream",
     "text": [
      "23/07/27 20:16:16 WARN SparkSession: Using an existing Spark session; only runtime SQL configurations will take effect.\n"
     ]
    },
    {
     "data": {
      "text/html": [
       "\n",
       "            <div>\n",
       "                <p><b>SparkSession - in-memory</b></p>\n",
       "                \n",
       "        <div>\n",
       "            <p><b>SparkContext</b></p>\n",
       "\n",
       "            <p><a href=\"http://ip-172-31-30-105.ap-northeast-2.compute.internal:4040\">Spark UI</a></p>\n",
       "\n",
       "            <dl>\n",
       "              <dt>Version</dt>\n",
       "                <dd><code>v3.4.1</code></dd>\n",
       "              <dt>Master</dt>\n",
       "                <dd><code>local</code></dd>\n",
       "              <dt>AppName</dt>\n",
       "                <dd><code>spark-sql</code></dd>\n",
       "            </dl>\n",
       "        </div>\n",
       "        \n",
       "            </div>\n",
       "        "
      ],
      "text/plain": [
       "<pyspark.sql.session.SparkSession at 0x7f6065cf9250>"
      ]
     },
     "execution_count": 6,
     "metadata": {},
     "output_type": "execute_result"
    }
   ],
   "source": [
    "from pyspark.sql import SparkSession\n",
    "spark = SparkSession.builder.appName(\"titanic_sdf\").getOrCreate()\n",
    "spark"
   ]
  },
  {
   "cell_type": "code",
   "execution_count": 3,
   "id": "7dc13531",
   "metadata": {
    "scrolled": true
   },
   "outputs": [
    {
     "name": "stdout",
     "output_type": "stream",
     "text": [
      "Collecting pandas==1.5\n",
      "  Downloading pandas-1.5.0-cp38-cp38-manylinux_2_17_x86_64.manylinux2014_x86_64.whl (12.2 MB)\n",
      "\u001b[2K     \u001b[90m━━━━━━━━━━━━━━━━━━━━━━━━━━━━━━━━━━━━━━━━\u001b[0m \u001b[32m12.2/12.2 MB\u001b[0m \u001b[31m19.1 MB/s\u001b[0m eta \u001b[36m0:00:00\u001b[0m00:01\u001b[0m00:01\u001b[0m\n",
      "\u001b[?25hRequirement already satisfied: python-dateutil>=2.8.1 in /home/ubuntu/miniconda3/envs/spark-env/lib/python3.8/site-packages (from pandas==1.5) (2.8.2)\n",
      "Requirement already satisfied: pytz>=2020.1 in /home/ubuntu/miniconda3/envs/spark-env/lib/python3.8/site-packages (from pandas==1.5) (2023.3)\n",
      "Collecting numpy>=1.20.3 (from pandas==1.5)\n",
      "  Downloading numpy-1.24.4-cp38-cp38-manylinux_2_17_x86_64.manylinux2014_x86_64.whl (17.3 MB)\n",
      "\u001b[2K     \u001b[90m━━━━━━━━━━━━━━━━━━━━━━━━━━━━━━━━━━━━━━━━\u001b[0m \u001b[32m17.3/17.3 MB\u001b[0m \u001b[31m35.5 MB/s\u001b[0m eta \u001b[36m0:00:00\u001b[0m00:01\u001b[0m00:01\u001b[0m\n",
      "\u001b[?25hRequirement already satisfied: six>=1.5 in /home/ubuntu/miniconda3/envs/spark-env/lib/python3.8/site-packages (from python-dateutil>=2.8.1->pandas==1.5) (1.16.0)\n",
      "Installing collected packages: numpy, pandas\n",
      "Successfully installed numpy-1.24.4 pandas-1.5.0\n"
     ]
    }
   ],
   "source": [
    "!pip install pandas==1.5"
   ]
  },
  {
   "cell_type": "code",
   "execution_count": 4,
   "id": "03009c78",
   "metadata": {
    "scrolled": false
   },
   "outputs": [
    {
     "name": "stdout",
     "output_type": "stream",
     "text": [
      "--2023-07-27 19:54:35--  https://raw.githubusercontent.com/mhso-dev/data-eng/main/titanic_train.csv\n",
      "Resolving raw.githubusercontent.com (raw.githubusercontent.com)... 185.199.109.133, 185.199.110.133, 185.199.111.133, ...\n",
      "Connecting to raw.githubusercontent.com (raw.githubusercontent.com)|185.199.109.133|:443... connected.\n",
      "HTTP request sent, awaiting response... 200 OK\n",
      "Length: 60302 (59K) [text/plain]\n",
      "Saving to: ‘titanic_train.csv’\n",
      "\n",
      "titanic_train.csv   100%[===================>]  58.89K  --.-KB/s    in 0.003s  \n",
      "\n",
      "2023-07-27 19:54:35 (17.5 MB/s) - ‘titanic_train.csv’ saved [60302/60302]\n",
      "\n"
     ]
    }
   ],
   "source": [
    "!wget https://raw.githubusercontent.com/mhso-dev/data-eng/main/titanic_train.csv"
   ]
  },
  {
   "cell_type": "markdown",
   "id": "c74db2f9",
   "metadata": {},
   "source": [
    "# Spark DataFrame\n",
    "- csv에서 불러오기"
   ]
  },
  {
   "cell_type": "code",
   "execution_count": 8,
   "id": "9477524c",
   "metadata": {},
   "outputs": [
    {
     "name": "stderr",
     "output_type": "stream",
     "text": [
      "                                                                                \r"
     ]
    },
    {
     "data": {
      "text/plain": [
       "DataFrame[PassengerId: int, Survived: int, Pclass: int, Name: string, Sex: string, Age: double, SibSp: int, Parch: int, Ticket: string, Fare: double, Cabin: string, Embarked: string]"
      ]
     },
     "execution_count": 8,
     "metadata": {},
     "output_type": "execute_result"
    }
   ],
   "source": [
    "filepath = \"/home/ubuntu/working/spark-examples/data/titanic_train.csv\"\n",
    "titanic_sdf = spark.read.csv(filepath, inferSchema=True, header=True) # inferSchema : 컬럼 타입 자동 추론\n",
    "titanic_sdf"
   ]
  },
  {
   "cell_type": "code",
   "execution_count": 9,
   "id": "de4db905",
   "metadata": {},
   "outputs": [
    {
     "name": "stdout",
     "output_type": "stream",
     "text": [
      "root\n",
      " |-- PassengerId: integer (nullable = true)\n",
      " |-- Survived: integer (nullable = true)\n",
      " |-- Pclass: integer (nullable = true)\n",
      " |-- Name: string (nullable = true)\n",
      " |-- Sex: string (nullable = true)\n",
      " |-- Age: double (nullable = true)\n",
      " |-- SibSp: integer (nullable = true)\n",
      " |-- Parch: integer (nullable = true)\n",
      " |-- Ticket: string (nullable = true)\n",
      " |-- Fare: double (nullable = true)\n",
      " |-- Cabin: string (nullable = true)\n",
      " |-- Embarked: string (nullable = true)\n",
      "\n"
     ]
    }
   ],
   "source": [
    "# 스파크의 데이터프레임은 정형데이터 구조이기 때문에 스키마가 \"반드시 존재\"\n",
    "titanic_sdf.printSchema()"
   ]
  },
  {
   "cell_type": "code",
   "execution_count": 10,
   "id": "f29f6364",
   "metadata": {},
   "outputs": [
    {
     "name": "stdout",
     "output_type": "stream",
     "text": [
      "+-----------+--------+------+--------------------+------+----+-----+-----+----------------+-------+-----+--------+\n",
      "|PassengerId|Survived|Pclass|                Name|   Sex| Age|SibSp|Parch|          Ticket|   Fare|Cabin|Embarked|\n",
      "+-----------+--------+------+--------------------+------+----+-----+-----+----------------+-------+-----+--------+\n",
      "|          1|       0|     3|Braund, Mr. Owen ...|  male|22.0|    1|    0|       A/5 21171|   7.25| null|       S|\n",
      "|          2|       1|     1|Cumings, Mrs. Joh...|female|38.0|    1|    0|        PC 17599|71.2833|  C85|       C|\n",
      "|          3|       1|     3|Heikkinen, Miss. ...|female|26.0|    0|    0|STON/O2. 3101282|  7.925| null|       S|\n",
      "|          4|       1|     1|Futrelle, Mrs. Ja...|female|35.0|    1|    0|          113803|   53.1| C123|       S|\n",
      "|          5|       0|     3|Allen, Mr. Willia...|  male|35.0|    0|    0|          373450|   8.05| null|       S|\n",
      "+-----------+--------+------+--------------------+------+----+-----+-----+----------------+-------+-----+--------+\n",
      "only showing top 5 rows\n",
      "\n"
     ]
    }
   ],
   "source": [
    "# 데이터 확인 - RDD의 collect() 또는 take()에 대응\n",
    "titanic_sdf.show(5)"
   ]
  },
  {
   "cell_type": "markdown",
   "id": "1849ab6c",
   "metadata": {},
   "source": [
    "# Pandas DataFrame과 비교"
   ]
  },
  {
   "cell_type": "code",
   "execution_count": 11,
   "id": "1eb3b8e4",
   "metadata": {},
   "outputs": [
    {
     "data": {
      "text/html": [
       "<div>\n",
       "<style scoped>\n",
       "    .dataframe tbody tr th:only-of-type {\n",
       "        vertical-align: middle;\n",
       "    }\n",
       "\n",
       "    .dataframe tbody tr th {\n",
       "        vertical-align: top;\n",
       "    }\n",
       "\n",
       "    .dataframe thead th {\n",
       "        text-align: right;\n",
       "    }\n",
       "</style>\n",
       "<table border=\"1\" class=\"dataframe\">\n",
       "  <thead>\n",
       "    <tr style=\"text-align: right;\">\n",
       "      <th></th>\n",
       "      <th>PassengerId</th>\n",
       "      <th>Survived</th>\n",
       "      <th>Pclass</th>\n",
       "      <th>Name</th>\n",
       "      <th>Sex</th>\n",
       "      <th>Age</th>\n",
       "      <th>SibSp</th>\n",
       "      <th>Parch</th>\n",
       "      <th>Ticket</th>\n",
       "      <th>Fare</th>\n",
       "      <th>Cabin</th>\n",
       "      <th>Embarked</th>\n",
       "    </tr>\n",
       "  </thead>\n",
       "  <tbody>\n",
       "    <tr>\n",
       "      <th>0</th>\n",
       "      <td>1</td>\n",
       "      <td>0</td>\n",
       "      <td>3</td>\n",
       "      <td>Braund, Mr. Owen Harris</td>\n",
       "      <td>male</td>\n",
       "      <td>22.0</td>\n",
       "      <td>1</td>\n",
       "      <td>0</td>\n",
       "      <td>A/5 21171</td>\n",
       "      <td>7.2500</td>\n",
       "      <td>NaN</td>\n",
       "      <td>S</td>\n",
       "    </tr>\n",
       "    <tr>\n",
       "      <th>1</th>\n",
       "      <td>2</td>\n",
       "      <td>1</td>\n",
       "      <td>1</td>\n",
       "      <td>Cumings, Mrs. John Bradley (Florence Briggs Th...</td>\n",
       "      <td>female</td>\n",
       "      <td>38.0</td>\n",
       "      <td>1</td>\n",
       "      <td>0</td>\n",
       "      <td>PC 17599</td>\n",
       "      <td>71.2833</td>\n",
       "      <td>C85</td>\n",
       "      <td>C</td>\n",
       "    </tr>\n",
       "    <tr>\n",
       "      <th>2</th>\n",
       "      <td>3</td>\n",
       "      <td>1</td>\n",
       "      <td>3</td>\n",
       "      <td>Heikkinen, Miss. Laina</td>\n",
       "      <td>female</td>\n",
       "      <td>26.0</td>\n",
       "      <td>0</td>\n",
       "      <td>0</td>\n",
       "      <td>STON/O2. 3101282</td>\n",
       "      <td>7.9250</td>\n",
       "      <td>NaN</td>\n",
       "      <td>S</td>\n",
       "    </tr>\n",
       "    <tr>\n",
       "      <th>3</th>\n",
       "      <td>4</td>\n",
       "      <td>1</td>\n",
       "      <td>1</td>\n",
       "      <td>Futrelle, Mrs. Jacques Heath (Lily May Peel)</td>\n",
       "      <td>female</td>\n",
       "      <td>35.0</td>\n",
       "      <td>1</td>\n",
       "      <td>0</td>\n",
       "      <td>113803</td>\n",
       "      <td>53.1000</td>\n",
       "      <td>C123</td>\n",
       "      <td>S</td>\n",
       "    </tr>\n",
       "    <tr>\n",
       "      <th>4</th>\n",
       "      <td>5</td>\n",
       "      <td>0</td>\n",
       "      <td>3</td>\n",
       "      <td>Allen, Mr. William Henry</td>\n",
       "      <td>male</td>\n",
       "      <td>35.0</td>\n",
       "      <td>0</td>\n",
       "      <td>0</td>\n",
       "      <td>373450</td>\n",
       "      <td>8.0500</td>\n",
       "      <td>NaN</td>\n",
       "      <td>S</td>\n",
       "    </tr>\n",
       "  </tbody>\n",
       "</table>\n",
       "</div>"
      ],
      "text/plain": [
       "   PassengerId  Survived  Pclass  \\\n",
       "0            1         0       3   \n",
       "1            2         1       1   \n",
       "2            3         1       3   \n",
       "3            4         1       1   \n",
       "4            5         0       3   \n",
       "\n",
       "                                                Name     Sex   Age  SibSp  \\\n",
       "0                            Braund, Mr. Owen Harris    male  22.0      1   \n",
       "1  Cumings, Mrs. John Bradley (Florence Briggs Th...  female  38.0      1   \n",
       "2                             Heikkinen, Miss. Laina  female  26.0      0   \n",
       "3       Futrelle, Mrs. Jacques Heath (Lily May Peel)  female  35.0      1   \n",
       "4                           Allen, Mr. William Henry    male  35.0      0   \n",
       "\n",
       "   Parch            Ticket     Fare Cabin Embarked  \n",
       "0      0         A/5 21171   7.2500   NaN        S  \n",
       "1      0          PC 17599  71.2833   C85        C  \n",
       "2      0  STON/O2. 3101282   7.9250   NaN        S  \n",
       "3      0            113803  53.1000  C123        S  \n",
       "4      0            373450   8.0500   NaN        S  "
      ]
     },
     "execution_count": 11,
     "metadata": {},
     "output_type": "execute_result"
    }
   ],
   "source": [
    "import pandas as pd\n",
    "\n",
    "titanic_pdf = pd.read_csv(filepath, header='infer')\n",
    "titanic_pdf.head()"
   ]
  },
  {
   "cell_type": "code",
   "execution_count": 12,
   "id": "d0c801a7",
   "metadata": {},
   "outputs": [
    {
     "data": {
      "text/plain": [
       "[Row(PassengerId=1, Survived=0, Pclass=3, Name='Braund, Mr. Owen Harris', Sex='male', Age=22.0, SibSp=1, Parch=0, Ticket='A/5 21171', Fare=7.25, Cabin=None, Embarked='S'),\n",
       " Row(PassengerId=2, Survived=1, Pclass=1, Name='Cumings, Mrs. John Bradley (Florence Briggs Thayer)', Sex='female', Age=38.0, SibSp=1, Parch=0, Ticket='PC 17599', Fare=71.2833, Cabin='C85', Embarked='C'),\n",
       " Row(PassengerId=3, Survived=1, Pclass=3, Name='Heikkinen, Miss. Laina', Sex='female', Age=26.0, SibSp=0, Parch=0, Ticket='STON/O2. 3101282', Fare=7.925, Cabin=None, Embarked='S'),\n",
       " Row(PassengerId=4, Survived=1, Pclass=1, Name='Futrelle, Mrs. Jacques Heath (Lily May Peel)', Sex='female', Age=35.0, SibSp=1, Parch=0, Ticket='113803', Fare=53.1, Cabin='C123', Embarked='S'),\n",
       " Row(PassengerId=5, Survived=0, Pclass=3, Name='Allen, Mr. William Henry', Sex='male', Age=35.0, SibSp=0, Parch=0, Ticket='373450', Fare=8.05, Cabin=None, Embarked='S')]"
      ]
     },
     "execution_count": 12,
     "metadata": {},
     "output_type": "execute_result"
    }
   ],
   "source": [
    "# Spark DataFrame의 head() 메소드는 선두 N개의 Row가 들어있는 \"리스트\"를 반환. DataFrame API 사용 X\n",
    "titanic_sdf.head(5)"
   ]
  },
  {
   "cell_type": "code",
   "execution_count": 13,
   "id": "768a77a9",
   "metadata": {},
   "outputs": [
    {
     "name": "stdout",
     "output_type": "stream",
     "text": [
      "+-----------+--------+------+--------------------+------+----+-----+-----+----------------+-------+-----+--------+\n",
      "|PassengerId|Survived|Pclass|                Name|   Sex| Age|SibSp|Parch|          Ticket|   Fare|Cabin|Embarked|\n",
      "+-----------+--------+------+--------------------+------+----+-----+-----+----------------+-------+-----+--------+\n",
      "|          1|       0|     3|Braund, Mr. Owen ...|  male|22.0|    1|    0|       A/5 21171|   7.25| null|       S|\n",
      "|          2|       1|     1|Cumings, Mrs. Joh...|female|38.0|    1|    0|        PC 17599|71.2833|  C85|       C|\n",
      "|          3|       1|     3|Heikkinen, Miss. ...|female|26.0|    0|    0|STON/O2. 3101282|  7.925| null|       S|\n",
      "|          4|       1|     1|Futrelle, Mrs. Ja...|female|35.0|    1|    0|          113803|   53.1| C123|       S|\n",
      "|          5|       0|     3|Allen, Mr. Willia...|  male|35.0|    0|    0|          373450|   8.05| null|       S|\n",
      "+-----------+--------+------+--------------------+------+----+-----+-----+----------------+-------+-----+--------+\n",
      "\n"
     ]
    }
   ],
   "source": [
    "# 스파크에서 판다스 데이터프레임의 head()와 비슷한 역할을 하는 메소드\n",
    "# limit : Transformations\n",
    "titanic_sdf.limit(5).show()"
   ]
  },
  {
   "cell_type": "code",
   "execution_count": 14,
   "id": "df09bd52",
   "metadata": {},
   "outputs": [
    {
     "name": "stdout",
     "output_type": "stream",
     "text": [
      "     PassengerId  Survived  Pclass  \\\n",
      "0              1         0       3   \n",
      "1              2         1       1   \n",
      "2              3         1       3   \n",
      "3              4         1       1   \n",
      "4              5         0       3   \n",
      "..           ...       ...     ...   \n",
      "886          887         0       2   \n",
      "887          888         1       1   \n",
      "888          889         0       3   \n",
      "889          890         1       1   \n",
      "890          891         0       3   \n",
      "\n",
      "                                                  Name     Sex   Age  SibSp  \\\n",
      "0                              Braund, Mr. Owen Harris    male  22.0      1   \n",
      "1    Cumings, Mrs. John Bradley (Florence Briggs Th...  female  38.0      1   \n",
      "2                               Heikkinen, Miss. Laina  female  26.0      0   \n",
      "3         Futrelle, Mrs. Jacques Heath (Lily May Peel)  female  35.0      1   \n",
      "4                             Allen, Mr. William Henry    male  35.0      0   \n",
      "..                                                 ...     ...   ...    ...   \n",
      "886                              Montvila, Rev. Juozas    male  27.0      0   \n",
      "887                       Graham, Miss. Margaret Edith  female  19.0      0   \n",
      "888           Johnston, Miss. Catherine Helen \"Carrie\"  female   NaN      1   \n",
      "889                              Behr, Mr. Karl Howell    male  26.0      0   \n",
      "890                                Dooley, Mr. Patrick    male  32.0      0   \n",
      "\n",
      "     Parch            Ticket     Fare Cabin Embarked  \n",
      "0        0         A/5 21171   7.2500   NaN        S  \n",
      "1        0          PC 17599  71.2833   C85        C  \n",
      "2        0  STON/O2. 3101282   7.9250   NaN        S  \n",
      "3        0            113803  53.1000  C123        S  \n",
      "4        0            373450   8.0500   NaN        S  \n",
      "..     ...               ...      ...   ...      ...  \n",
      "886      0            211536  13.0000   NaN        S  \n",
      "887      0            112053  30.0000   B42        S  \n",
      "888      2        W./C. 6607  23.4500   NaN        S  \n",
      "889      0            111369  30.0000  C148        C  \n",
      "890      0            370376   7.7500   NaN        Q  \n",
      "\n",
      "[891 rows x 12 columns]\n"
     ]
    }
   ],
   "source": [
    "print(titanic_pdf)"
   ]
  },
  {
   "cell_type": "code",
   "execution_count": 15,
   "id": "bded025f",
   "metadata": {},
   "outputs": [
    {
     "name": "stdout",
     "output_type": "stream",
     "text": [
      "DataFrame[PassengerId: int, Survived: int, Pclass: int, Name: string, Sex: string, Age: double, SibSp: int, Parch: int, Ticket: string, Fare: double, Cabin: string, Embarked: string]\n"
     ]
    }
   ],
   "source": [
    "print(titanic_sdf)"
   ]
  },
  {
   "cell_type": "code",
   "execution_count": 16,
   "id": "b7ec465a",
   "metadata": {},
   "outputs": [
    {
     "data": {
      "text/html": [
       "<div>\n",
       "<style scoped>\n",
       "    .dataframe tbody tr th:only-of-type {\n",
       "        vertical-align: middle;\n",
       "    }\n",
       "\n",
       "    .dataframe tbody tr th {\n",
       "        vertical-align: top;\n",
       "    }\n",
       "\n",
       "    .dataframe thead th {\n",
       "        text-align: right;\n",
       "    }\n",
       "</style>\n",
       "<table border=\"1\" class=\"dataframe\">\n",
       "  <thead>\n",
       "    <tr style=\"text-align: right;\">\n",
       "      <th></th>\n",
       "      <th>Pclass</th>\n",
       "      <th>Embarked</th>\n",
       "    </tr>\n",
       "  </thead>\n",
       "  <tbody>\n",
       "    <tr>\n",
       "      <th>0</th>\n",
       "      <td>3</td>\n",
       "      <td>S</td>\n",
       "    </tr>\n",
       "    <tr>\n",
       "      <th>1</th>\n",
       "      <td>1</td>\n",
       "      <td>C</td>\n",
       "    </tr>\n",
       "    <tr>\n",
       "      <th>2</th>\n",
       "      <td>3</td>\n",
       "      <td>S</td>\n",
       "    </tr>\n",
       "    <tr>\n",
       "      <th>3</th>\n",
       "      <td>1</td>\n",
       "      <td>S</td>\n",
       "    </tr>\n",
       "    <tr>\n",
       "      <th>4</th>\n",
       "      <td>3</td>\n",
       "      <td>S</td>\n",
       "    </tr>\n",
       "    <tr>\n",
       "      <th>...</th>\n",
       "      <td>...</td>\n",
       "      <td>...</td>\n",
       "    </tr>\n",
       "    <tr>\n",
       "      <th>886</th>\n",
       "      <td>2</td>\n",
       "      <td>S</td>\n",
       "    </tr>\n",
       "    <tr>\n",
       "      <th>887</th>\n",
       "      <td>1</td>\n",
       "      <td>S</td>\n",
       "    </tr>\n",
       "    <tr>\n",
       "      <th>888</th>\n",
       "      <td>3</td>\n",
       "      <td>S</td>\n",
       "    </tr>\n",
       "    <tr>\n",
       "      <th>889</th>\n",
       "      <td>1</td>\n",
       "      <td>C</td>\n",
       "    </tr>\n",
       "    <tr>\n",
       "      <th>890</th>\n",
       "      <td>3</td>\n",
       "      <td>Q</td>\n",
       "    </tr>\n",
       "  </tbody>\n",
       "</table>\n",
       "<p>891 rows × 2 columns</p>\n",
       "</div>"
      ],
      "text/plain": [
       "     Pclass Embarked\n",
       "0         3        S\n",
       "1         1        C\n",
       "2         3        S\n",
       "3         1        S\n",
       "4         3        S\n",
       "..      ...      ...\n",
       "886       2        S\n",
       "887       1        S\n",
       "888       3        S\n",
       "889       1        C\n",
       "890       3        Q\n",
       "\n",
       "[891 rows x 2 columns]"
      ]
     },
     "execution_count": 16,
     "metadata": {},
     "output_type": "execute_result"
    }
   ],
   "source": [
    "# Spark DataFrame -> Pandas DataFrame\n",
    "titanic_sdf.select(\"Pclass\", \"Embarked\").toPandas() # toPandas() : Actions"
   ]
  },
  {
   "cell_type": "code",
   "execution_count": 17,
   "id": "20ac17ac",
   "metadata": {},
   "outputs": [
    {
     "data": {
      "text/html": [
       "<div>\n",
       "<style scoped>\n",
       "    .dataframe tbody tr th:only-of-type {\n",
       "        vertical-align: middle;\n",
       "    }\n",
       "\n",
       "    .dataframe tbody tr th {\n",
       "        vertical-align: top;\n",
       "    }\n",
       "\n",
       "    .dataframe thead th {\n",
       "        text-align: right;\n",
       "    }\n",
       "</style>\n",
       "<table border=\"1\" class=\"dataframe\">\n",
       "  <thead>\n",
       "    <tr style=\"text-align: right;\">\n",
       "      <th></th>\n",
       "      <th>PassengerId</th>\n",
       "      <th>Survived</th>\n",
       "      <th>Pclass</th>\n",
       "      <th>Age</th>\n",
       "      <th>SibSp</th>\n",
       "      <th>Parch</th>\n",
       "      <th>Fare</th>\n",
       "    </tr>\n",
       "  </thead>\n",
       "  <tbody>\n",
       "    <tr>\n",
       "      <th>count</th>\n",
       "      <td>891.000000</td>\n",
       "      <td>891.000000</td>\n",
       "      <td>891.000000</td>\n",
       "      <td>714.000000</td>\n",
       "      <td>891.000000</td>\n",
       "      <td>891.000000</td>\n",
       "      <td>891.000000</td>\n",
       "    </tr>\n",
       "    <tr>\n",
       "      <th>mean</th>\n",
       "      <td>446.000000</td>\n",
       "      <td>0.383838</td>\n",
       "      <td>2.308642</td>\n",
       "      <td>29.699118</td>\n",
       "      <td>0.523008</td>\n",
       "      <td>0.381594</td>\n",
       "      <td>32.204208</td>\n",
       "    </tr>\n",
       "    <tr>\n",
       "      <th>std</th>\n",
       "      <td>257.353842</td>\n",
       "      <td>0.486592</td>\n",
       "      <td>0.836071</td>\n",
       "      <td>14.526497</td>\n",
       "      <td>1.102743</td>\n",
       "      <td>0.806057</td>\n",
       "      <td>49.693429</td>\n",
       "    </tr>\n",
       "    <tr>\n",
       "      <th>min</th>\n",
       "      <td>1.000000</td>\n",
       "      <td>0.000000</td>\n",
       "      <td>1.000000</td>\n",
       "      <td>0.420000</td>\n",
       "      <td>0.000000</td>\n",
       "      <td>0.000000</td>\n",
       "      <td>0.000000</td>\n",
       "    </tr>\n",
       "    <tr>\n",
       "      <th>25%</th>\n",
       "      <td>223.500000</td>\n",
       "      <td>0.000000</td>\n",
       "      <td>2.000000</td>\n",
       "      <td>20.125000</td>\n",
       "      <td>0.000000</td>\n",
       "      <td>0.000000</td>\n",
       "      <td>7.910400</td>\n",
       "    </tr>\n",
       "    <tr>\n",
       "      <th>50%</th>\n",
       "      <td>446.000000</td>\n",
       "      <td>0.000000</td>\n",
       "      <td>3.000000</td>\n",
       "      <td>28.000000</td>\n",
       "      <td>0.000000</td>\n",
       "      <td>0.000000</td>\n",
       "      <td>14.454200</td>\n",
       "    </tr>\n",
       "    <tr>\n",
       "      <th>75%</th>\n",
       "      <td>668.500000</td>\n",
       "      <td>1.000000</td>\n",
       "      <td>3.000000</td>\n",
       "      <td>38.000000</td>\n",
       "      <td>1.000000</td>\n",
       "      <td>0.000000</td>\n",
       "      <td>31.000000</td>\n",
       "    </tr>\n",
       "    <tr>\n",
       "      <th>max</th>\n",
       "      <td>891.000000</td>\n",
       "      <td>1.000000</td>\n",
       "      <td>3.000000</td>\n",
       "      <td>80.000000</td>\n",
       "      <td>8.000000</td>\n",
       "      <td>6.000000</td>\n",
       "      <td>512.329200</td>\n",
       "    </tr>\n",
       "  </tbody>\n",
       "</table>\n",
       "</div>"
      ],
      "text/plain": [
       "       PassengerId    Survived      Pclass         Age       SibSp  \\\n",
       "count   891.000000  891.000000  891.000000  714.000000  891.000000   \n",
       "mean    446.000000    0.383838    2.308642   29.699118    0.523008   \n",
       "std     257.353842    0.486592    0.836071   14.526497    1.102743   \n",
       "min       1.000000    0.000000    1.000000    0.420000    0.000000   \n",
       "25%     223.500000    0.000000    2.000000   20.125000    0.000000   \n",
       "50%     446.000000    0.000000    3.000000   28.000000    0.000000   \n",
       "75%     668.500000    1.000000    3.000000   38.000000    1.000000   \n",
       "max     891.000000    1.000000    3.000000   80.000000    8.000000   \n",
       "\n",
       "            Parch        Fare  \n",
       "count  891.000000  891.000000  \n",
       "mean     0.381594   32.204208  \n",
       "std      0.806057   49.693429  \n",
       "min      0.000000    0.000000  \n",
       "25%      0.000000    7.910400  \n",
       "50%      0.000000   14.454200  \n",
       "75%      0.000000   31.000000  \n",
       "max      6.000000  512.329200  "
      ]
     },
     "execution_count": 17,
     "metadata": {},
     "output_type": "execute_result"
    }
   ],
   "source": [
    "# describe() 메소드를 활용해서 데이터프레임의 통계적인 정보를 확인 할 수 있다\n",
    "titanic_pdf.describe() # 숫자형 데이터에 대해서만 통계적인 정보를 구한다."
   ]
  },
  {
   "cell_type": "code",
   "execution_count": 18,
   "id": "18c2ab31",
   "metadata": {},
   "outputs": [
    {
     "name": "stderr",
     "output_type": "stream",
     "text": [
      "23/07/27 20:19:24 WARN package: Truncated the string representation of a plan since it was too large. This behavior can be adjusted by setting 'spark.sql.debug.maxToStringFields'.\n",
      "[Stage 8:>                                                          (0 + 1) / 1]\r"
     ]
    },
    {
     "name": "stdout",
     "output_type": "stream",
     "text": [
      "+-------+-----------------+-------------------+------------------+--------------------+------+------------------+------------------+-------------------+------------------+-----------------+-----+--------+\n",
      "|summary|      PassengerId|           Survived|            Pclass|                Name|   Sex|               Age|             SibSp|              Parch|            Ticket|             Fare|Cabin|Embarked|\n",
      "+-------+-----------------+-------------------+------------------+--------------------+------+------------------+------------------+-------------------+------------------+-----------------+-----+--------+\n",
      "|  count|              891|                891|               891|                 891|   891|               714|               891|                891|               891|              891|  204|     889|\n",
      "|   mean|            446.0| 0.3838383838383838| 2.308641975308642|                null|  null| 29.69911764705882|0.5230078563411896|0.38159371492704824|260318.54916792738| 32.2042079685746| null|    null|\n",
      "| stddev|257.3538420152301|0.48659245426485753|0.8360712409770491|                null|  null|14.526497332334035|1.1027434322934315| 0.8060572211299488|471609.26868834975|49.69342859718089| null|    null|\n",
      "|    min|                1|                  0|                 1|\"Andersson, Mr. A...|female|              0.42|                 0|                  0|            110152|              0.0|  A10|       C|\n",
      "|    max|              891|                  1|                 3|van Melkebeke, Mr...|  male|              80.0|                 8|                  6|         WE/P 5735|         512.3292|    T|       S|\n",
      "+-------+-----------------+-------------------+------------------+--------------------+------+------------------+------------------+-------------------+------------------+-----------------+-----+--------+\n",
      "\n"
     ]
    },
    {
     "name": "stderr",
     "output_type": "stream",
     "text": [
      "\r",
      "                                                                                \r"
     ]
    }
   ],
   "source": [
    "titanic_sdf.describe().show() # 문자열 형태의 컬럼에 대해서도 집계가 된다."
   ]
  },
  {
   "cell_type": "code",
   "execution_count": 19,
   "id": "52b07cdc",
   "metadata": {},
   "outputs": [
    {
     "data": {
      "text/plain": [
       "[('PassengerId', 'int'),\n",
       " ('Survived', 'int'),\n",
       " ('Pclass', 'int'),\n",
       " ('Name', 'string'),\n",
       " ('Sex', 'string'),\n",
       " ('Age', 'double'),\n",
       " ('SibSp', 'int'),\n",
       " ('Parch', 'int'),\n",
       " ('Ticket', 'string'),\n",
       " ('Fare', 'double'),\n",
       " ('Cabin', 'string'),\n",
       " ('Embarked', 'string')]"
      ]
     },
     "execution_count": 19,
     "metadata": {},
     "output_type": "execute_result"
    }
   ],
   "source": [
    "# 스파크 데이터프레임에서 숫자 형식의 데이터에 대한 집계 해보기\n",
    "titanic_sdf.dtypes"
   ]
  },
  {
   "cell_type": "code",
   "execution_count": 20,
   "id": "1b3996d6",
   "metadata": {},
   "outputs": [
    {
     "data": {
      "text/plain": [
       "['PassengerId', 'Survived', 'Pclass', 'Age', 'SibSp', 'Parch', 'Fare']"
      ]
     },
     "execution_count": 20,
     "metadata": {},
     "output_type": "execute_result"
    }
   ],
   "source": [
    "number_columns = [column_name for column_name, dtype in titanic_sdf.dtypes if dtype != 'string']\n",
    "number_columns"
   ]
  },
  {
   "cell_type": "code",
   "execution_count": 21,
   "id": "da1dfefe",
   "metadata": {},
   "outputs": [
    {
     "name": "stdout",
     "output_type": "stream",
     "text": [
      "+-------+-----------------+-------------------+------------------+------------------+------------------+-------------------+-----------------+\n",
      "|summary|      PassengerId|           Survived|            Pclass|               Age|             SibSp|              Parch|             Fare|\n",
      "+-------+-----------------+-------------------+------------------+------------------+------------------+-------------------+-----------------+\n",
      "|  count|              891|                891|               891|               714|               891|                891|              891|\n",
      "|   mean|            446.0| 0.3838383838383838| 2.308641975308642| 29.69911764705882|0.5230078563411896|0.38159371492704824| 32.2042079685746|\n",
      "| stddev|257.3538420152301|0.48659245426485753|0.8360712409770491|14.526497332334035|1.1027434322934315| 0.8060572211299488|49.69342859718089|\n",
      "|    min|                1|                  0|                 1|              0.42|                 0|                  0|              0.0|\n",
      "|    max|              891|                  1|                 3|              80.0|                 8|                  6|         512.3292|\n",
      "+-------+-----------------+-------------------+------------------+------------------+------------------+-------------------+-----------------+\n",
      "\n"
     ]
    }
   ],
   "source": [
    "titanic_sdf.select(number_columns).describe().show()"
   ]
  },
  {
   "cell_type": "code",
   "execution_count": 22,
   "id": "1b67c17c",
   "metadata": {},
   "outputs": [
    {
     "data": {
      "text/plain": [
       "(891, 12)"
      ]
     },
     "execution_count": 22,
     "metadata": {},
     "output_type": "execute_result"
    }
   ],
   "source": [
    "# shape\n",
    "# Pandas DataFrame의 shape은 row와 column의 개수가 나온다.\n",
    "titanic_pdf.shape"
   ]
  },
  {
   "cell_type": "code",
   "execution_count": 23,
   "id": "1c62d914",
   "metadata": {},
   "outputs": [
    {
     "name": "stdout",
     "output_type": "stream",
     "text": [
      "12\n"
     ]
    }
   ],
   "source": [
    "# Spark DataFrame은 shape이 없다.\n",
    "print(len( titanic_sdf.columns ))"
   ]
  },
  {
   "cell_type": "code",
   "execution_count": 24,
   "id": "7fa61e37",
   "metadata": {},
   "outputs": [
    {
     "name": "stdout",
     "output_type": "stream",
     "text": [
      "891\n"
     ]
    }
   ],
   "source": [
    "print(titanic_sdf.count())"
   ]
  },
  {
   "cell_type": "markdown",
   "id": "26489423",
   "metadata": {},
   "source": [
    "# Spark DataFrame의 select() 메소드 알아보기⭐️\n",
    "- `select` 메소드는 SQL의 SELECT절과 매우 흡사하게 한 개 이상의 컬럼들의 값을 **DATAFRAME** 형식으로 반환\n",
    "- 한 개의 컬럼명 또는 여러 개의 컬럼명을 인자로 받을 수 있다.\n",
    "    - 개별 컬럼명을 문자열 형태로 또는 DataFrame의 컬럼 속성으로 지정\n",
    "- DataFrame의 컬럼 속성으로 지정할 시에는 DataFrame.컬럼명, DataFrame[컬럼명], `col(컬럼명)`으로 지정"
   ]
  },
  {
   "cell_type": "code",
   "execution_count": 25,
   "id": "22dced07",
   "metadata": {},
   "outputs": [
    {
     "data": {
      "text/plain": [
       "0                                Braund, Mr. Owen Harris\n",
       "1      Cumings, Mrs. John Bradley (Florence Briggs Th...\n",
       "2                                 Heikkinen, Miss. Laina\n",
       "3           Futrelle, Mrs. Jacques Heath (Lily May Peel)\n",
       "4                               Allen, Mr. William Henry\n",
       "                             ...                        \n",
       "886                                Montvila, Rev. Juozas\n",
       "887                         Graham, Miss. Margaret Edith\n",
       "888             Johnston, Miss. Catherine Helen \"Carrie\"\n",
       "889                                Behr, Mr. Karl Howell\n",
       "890                                  Dooley, Mr. Patrick\n",
       "Name: Name, Length: 891, dtype: object"
      ]
     },
     "execution_count": 25,
     "metadata": {},
     "output_type": "execute_result"
    }
   ],
   "source": [
    "# Pandas 데이터프레임에서 단일 컬럼값 가져오기\n",
    "titanic_pdf['Name']"
   ]
  },
  {
   "cell_type": "code",
   "execution_count": 26,
   "id": "28a494f7",
   "metadata": {},
   "outputs": [
    {
     "data": {
      "text/html": [
       "<div>\n",
       "<style scoped>\n",
       "    .dataframe tbody tr th:only-of-type {\n",
       "        vertical-align: middle;\n",
       "    }\n",
       "\n",
       "    .dataframe tbody tr th {\n",
       "        vertical-align: top;\n",
       "    }\n",
       "\n",
       "    .dataframe thead th {\n",
       "        text-align: right;\n",
       "    }\n",
       "</style>\n",
       "<table border=\"1\" class=\"dataframe\">\n",
       "  <thead>\n",
       "    <tr style=\"text-align: right;\">\n",
       "      <th></th>\n",
       "      <th>Name</th>\n",
       "      <th>Age</th>\n",
       "    </tr>\n",
       "  </thead>\n",
       "  <tbody>\n",
       "    <tr>\n",
       "      <th>0</th>\n",
       "      <td>Braund, Mr. Owen Harris</td>\n",
       "      <td>22.0</td>\n",
       "    </tr>\n",
       "    <tr>\n",
       "      <th>1</th>\n",
       "      <td>Cumings, Mrs. John Bradley (Florence Briggs Th...</td>\n",
       "      <td>38.0</td>\n",
       "    </tr>\n",
       "    <tr>\n",
       "      <th>2</th>\n",
       "      <td>Heikkinen, Miss. Laina</td>\n",
       "      <td>26.0</td>\n",
       "    </tr>\n",
       "    <tr>\n",
       "      <th>3</th>\n",
       "      <td>Futrelle, Mrs. Jacques Heath (Lily May Peel)</td>\n",
       "      <td>35.0</td>\n",
       "    </tr>\n",
       "    <tr>\n",
       "      <th>4</th>\n",
       "      <td>Allen, Mr. William Henry</td>\n",
       "      <td>35.0</td>\n",
       "    </tr>\n",
       "    <tr>\n",
       "      <th>...</th>\n",
       "      <td>...</td>\n",
       "      <td>...</td>\n",
       "    </tr>\n",
       "    <tr>\n",
       "      <th>886</th>\n",
       "      <td>Montvila, Rev. Juozas</td>\n",
       "      <td>27.0</td>\n",
       "    </tr>\n",
       "    <tr>\n",
       "      <th>887</th>\n",
       "      <td>Graham, Miss. Margaret Edith</td>\n",
       "      <td>19.0</td>\n",
       "    </tr>\n",
       "    <tr>\n",
       "      <th>888</th>\n",
       "      <td>Johnston, Miss. Catherine Helen \"Carrie\"</td>\n",
       "      <td>NaN</td>\n",
       "    </tr>\n",
       "    <tr>\n",
       "      <th>889</th>\n",
       "      <td>Behr, Mr. Karl Howell</td>\n",
       "      <td>26.0</td>\n",
       "    </tr>\n",
       "    <tr>\n",
       "      <th>890</th>\n",
       "      <td>Dooley, Mr. Patrick</td>\n",
       "      <td>32.0</td>\n",
       "    </tr>\n",
       "  </tbody>\n",
       "</table>\n",
       "<p>891 rows × 2 columns</p>\n",
       "</div>"
      ],
      "text/plain": [
       "                                                  Name   Age\n",
       "0                              Braund, Mr. Owen Harris  22.0\n",
       "1    Cumings, Mrs. John Bradley (Florence Briggs Th...  38.0\n",
       "2                               Heikkinen, Miss. Laina  26.0\n",
       "3         Futrelle, Mrs. Jacques Heath (Lily May Peel)  35.0\n",
       "4                             Allen, Mr. William Henry  35.0\n",
       "..                                                 ...   ...\n",
       "886                              Montvila, Rev. Juozas  27.0\n",
       "887                       Graham, Miss. Margaret Edith  19.0\n",
       "888           Johnston, Miss. Catherine Helen \"Carrie\"   NaN\n",
       "889                              Behr, Mr. Karl Howell  26.0\n",
       "890                                Dooley, Mr. Patrick  32.0\n",
       "\n",
       "[891 rows x 2 columns]"
      ]
     },
     "execution_count": 26,
     "metadata": {},
     "output_type": "execute_result"
    }
   ],
   "source": [
    "titanic_pdf[[\"Name\", \"Age\"]]"
   ]
  },
  {
   "cell_type": "code",
   "execution_count": 27,
   "id": "321c7c46",
   "metadata": {},
   "outputs": [
    {
     "name": "stdout",
     "output_type": "stream",
     "text": [
      "+--------------------+\n",
      "|                Name|\n",
      "+--------------------+\n",
      "|Braund, Mr. Owen ...|\n",
      "|Cumings, Mrs. Joh...|\n",
      "|Heikkinen, Miss. ...|\n",
      "|Futrelle, Mrs. Ja...|\n",
      "|Allen, Mr. Willia...|\n",
      "|    Moran, Mr. James|\n",
      "|McCarthy, Mr. Tim...|\n",
      "|Palsson, Master. ...|\n",
      "|Johnson, Mrs. Osc...|\n",
      "|Nasser, Mrs. Nich...|\n",
      "|Sandstrom, Miss. ...|\n",
      "|Bonnell, Miss. El...|\n",
      "|Saundercock, Mr. ...|\n",
      "|Andersson, Mr. An...|\n",
      "|Vestrom, Miss. Hu...|\n",
      "|Hewlett, Mrs. (Ma...|\n",
      "|Rice, Master. Eugene|\n",
      "|Williams, Mr. Cha...|\n",
      "|Vander Planke, Mr...|\n",
      "|Masselmani, Mrs. ...|\n",
      "+--------------------+\n",
      "only showing top 20 rows\n",
      "\n"
     ]
    }
   ],
   "source": [
    "# Spark Dataframe의 select 사용. select는 Transformations\n",
    "titanic_sdf.select(\"Name\").show() # select name from titanic_sdf"
   ]
  },
  {
   "cell_type": "code",
   "execution_count": 28,
   "id": "74512c91",
   "metadata": {},
   "outputs": [
    {
     "name": "stdout",
     "output_type": "stream",
     "text": [
      "+--------------------+-------+\n",
      "|                Name|   Fare|\n",
      "+--------------------+-------+\n",
      "|Braund, Mr. Owen ...|   7.25|\n",
      "|Cumings, Mrs. Joh...|71.2833|\n",
      "|Heikkinen, Miss. ...|  7.925|\n",
      "|Futrelle, Mrs. Ja...|   53.1|\n",
      "|Allen, Mr. Willia...|   8.05|\n",
      "|    Moran, Mr. James| 8.4583|\n",
      "|McCarthy, Mr. Tim...|51.8625|\n",
      "|Palsson, Master. ...| 21.075|\n",
      "|Johnson, Mrs. Osc...|11.1333|\n",
      "|Nasser, Mrs. Nich...|30.0708|\n",
      "|Sandstrom, Miss. ...|   16.7|\n",
      "|Bonnell, Miss. El...|  26.55|\n",
      "|Saundercock, Mr. ...|   8.05|\n",
      "|Andersson, Mr. An...| 31.275|\n",
      "|Vestrom, Miss. Hu...| 7.8542|\n",
      "|Hewlett, Mrs. (Ma...|   16.0|\n",
      "|Rice, Master. Eugene| 29.125|\n",
      "|Williams, Mr. Cha...|   13.0|\n",
      "|Vander Planke, Mr...|   18.0|\n",
      "|Masselmani, Mrs. ...|  7.225|\n",
      "+--------------------+-------+\n",
      "only showing top 20 rows\n",
      "\n"
     ]
    }
   ],
   "source": [
    "# 여러 개의 컬럼 select\n",
    "titanic_sdf.select(\"Name\", \"Fare\").show()"
   ]
  },
  {
   "cell_type": "code",
   "execution_count": 29,
   "id": "bce2db9d",
   "metadata": {},
   "outputs": [],
   "source": [
    "# List를 이용해서 select\n",
    "select_columns = [\"Name\", \"Age\", \"Pclass\", \"Fare\"]"
   ]
  },
  {
   "cell_type": "code",
   "execution_count": 30,
   "id": "d2ca49b9",
   "metadata": {},
   "outputs": [
    {
     "name": "stdout",
     "output_type": "stream",
     "text": [
      "['Name', 'Age', 'Pclass', 'Fare']\n",
      "Name Age Pclass Fare\n"
     ]
    }
   ],
   "source": [
    "# *list 또는 list를 그대로 사용해서 데이터를 조회\n",
    "#  *list : list내의 모든 원소를 unpack한다. 스파크 데이터프레임에서는 리스트가 아닌, 컬럼의 목록이 그대로 들어가는 것이 원칙!\n",
    "# select(\"A\", \"B\", \"C\") 처럼 선택하는 것이 원칙(구 버전). 신 버전에서는 select([\"A\", \"B\", \"C\"]) 로 선택하는 것을 지원\n",
    "print(select_columns)\n",
    "print(*select_columns)"
   ]
  },
  {
   "cell_type": "code",
   "execution_count": 31,
   "id": "c0436acc",
   "metadata": {},
   "outputs": [
    {
     "name": "stdout",
     "output_type": "stream",
     "text": [
      "+--------------------+----+------+-------+\n",
      "|                Name| Age|Pclass|   Fare|\n",
      "+--------------------+----+------+-------+\n",
      "|Braund, Mr. Owen ...|22.0|     3|   7.25|\n",
      "|Cumings, Mrs. Joh...|38.0|     1|71.2833|\n",
      "|Heikkinen, Miss. ...|26.0|     3|  7.925|\n",
      "|Futrelle, Mrs. Ja...|35.0|     1|   53.1|\n",
      "|Allen, Mr. Willia...|35.0|     3|   8.05|\n",
      "|    Moran, Mr. James|null|     3| 8.4583|\n",
      "|McCarthy, Mr. Tim...|54.0|     1|51.8625|\n",
      "|Palsson, Master. ...| 2.0|     3| 21.075|\n",
      "|Johnson, Mrs. Osc...|27.0|     3|11.1333|\n",
      "|Nasser, Mrs. Nich...|14.0|     2|30.0708|\n",
      "|Sandstrom, Miss. ...| 4.0|     3|   16.7|\n",
      "|Bonnell, Miss. El...|58.0|     1|  26.55|\n",
      "|Saundercock, Mr. ...|20.0|     3|   8.05|\n",
      "|Andersson, Mr. An...|39.0|     3| 31.275|\n",
      "|Vestrom, Miss. Hu...|14.0|     3| 7.8542|\n",
      "|Hewlett, Mrs. (Ma...|55.0|     2|   16.0|\n",
      "|Rice, Master. Eugene| 2.0|     3| 29.125|\n",
      "|Williams, Mr. Cha...|null|     2|   13.0|\n",
      "|Vander Planke, Mr...|31.0|     3|   18.0|\n",
      "|Masselmani, Mrs. ...|null|     3|  7.225|\n",
      "+--------------------+----+------+-------+\n",
      "only showing top 20 rows\n",
      "\n",
      "+--------------------+----+------+-------+\n",
      "|                Name| Age|Pclass|   Fare|\n",
      "+--------------------+----+------+-------+\n",
      "|Braund, Mr. Owen ...|22.0|     3|   7.25|\n",
      "|Cumings, Mrs. Joh...|38.0|     1|71.2833|\n",
      "|Heikkinen, Miss. ...|26.0|     3|  7.925|\n",
      "|Futrelle, Mrs. Ja...|35.0|     1|   53.1|\n",
      "|Allen, Mr. Willia...|35.0|     3|   8.05|\n",
      "|    Moran, Mr. James|null|     3| 8.4583|\n",
      "|McCarthy, Mr. Tim...|54.0|     1|51.8625|\n",
      "|Palsson, Master. ...| 2.0|     3| 21.075|\n",
      "|Johnson, Mrs. Osc...|27.0|     3|11.1333|\n",
      "|Nasser, Mrs. Nich...|14.0|     2|30.0708|\n",
      "|Sandstrom, Miss. ...| 4.0|     3|   16.7|\n",
      "|Bonnell, Miss. El...|58.0|     1|  26.55|\n",
      "|Saundercock, Mr. ...|20.0|     3|   8.05|\n",
      "|Andersson, Mr. An...|39.0|     3| 31.275|\n",
      "|Vestrom, Miss. Hu...|14.0|     3| 7.8542|\n",
      "|Hewlett, Mrs. (Ma...|55.0|     2|   16.0|\n",
      "|Rice, Master. Eugene| 2.0|     3| 29.125|\n",
      "|Williams, Mr. Cha...|null|     2|   13.0|\n",
      "|Vander Planke, Mr...|31.0|     3|   18.0|\n",
      "|Masselmani, Mrs. ...|null|     3|  7.225|\n",
      "+--------------------+----+------+-------+\n",
      "only showing top 20 rows\n",
      "\n"
     ]
    }
   ],
   "source": [
    "titanic_sdf.select(select_columns).show() # 신 버전\n",
    "titanic_sdf.select(*select_columns).show() # 구 버전"
   ]
  },
  {
   "cell_type": "code",
   "execution_count": 32,
   "id": "8a1ff261",
   "metadata": {},
   "outputs": [
    {
     "data": {
      "text/plain": [
       "Column<'Name'>"
      ]
     },
     "execution_count": 32,
     "metadata": {},
     "output_type": "execute_result"
    }
   ],
   "source": [
    "# 컬럼 속성 지정. Pandas 데이터프레임에서 시리즈를 선택하듯이 작성\n",
    "titanic_sdf['Name']"
   ]
  },
  {
   "cell_type": "code",
   "execution_count": 33,
   "id": "7c46b544",
   "metadata": {},
   "outputs": [
    {
     "data": {
      "text/plain": [
       "0                                Braund, Mr. Owen Harris\n",
       "1      Cumings, Mrs. John Bradley (Florence Briggs Th...\n",
       "2                                 Heikkinen, Miss. Laina\n",
       "3           Futrelle, Mrs. Jacques Heath (Lily May Peel)\n",
       "4                               Allen, Mr. William Henry\n",
       "                             ...                        \n",
       "886                                Montvila, Rev. Juozas\n",
       "887                         Graham, Miss. Margaret Edith\n",
       "888             Johnston, Miss. Catherine Helen \"Carrie\"\n",
       "889                                Behr, Mr. Karl Howell\n",
       "890                                  Dooley, Mr. Patrick\n",
       "Name: Name, Length: 891, dtype: object"
      ]
     },
     "execution_count": 33,
     "metadata": {},
     "output_type": "execute_result"
    }
   ],
   "source": [
    "titanic_pdf[\"Name\"]"
   ]
  },
  {
   "cell_type": "markdown",
   "id": "4dae13c0",
   "metadata": {},
   "source": [
    "# 컬럼 속성 사용하기"
   ]
  },
  {
   "cell_type": "code",
   "execution_count": 34,
   "id": "eb1439a3",
   "metadata": {},
   "outputs": [
    {
     "name": "stdout",
     "output_type": "stream",
     "text": [
      "+--------------------+\n",
      "|                Name|\n",
      "+--------------------+\n",
      "|Braund, Mr. Owen ...|\n",
      "|Cumings, Mrs. Joh...|\n",
      "|Heikkinen, Miss. ...|\n",
      "|Futrelle, Mrs. Ja...|\n",
      "|Allen, Mr. Willia...|\n",
      "|    Moran, Mr. James|\n",
      "|McCarthy, Mr. Tim...|\n",
      "|Palsson, Master. ...|\n",
      "|Johnson, Mrs. Osc...|\n",
      "|Nasser, Mrs. Nich...|\n",
      "|Sandstrom, Miss. ...|\n",
      "|Bonnell, Miss. El...|\n",
      "|Saundercock, Mr. ...|\n",
      "|Andersson, Mr. An...|\n",
      "|Vestrom, Miss. Hu...|\n",
      "|Hewlett, Mrs. (Ma...|\n",
      "|Rice, Master. Eugene|\n",
      "|Williams, Mr. Cha...|\n",
      "|Vander Planke, Mr...|\n",
      "|Masselmani, Mrs. ...|\n",
      "+--------------------+\n",
      "only showing top 20 rows\n",
      "\n"
     ]
    }
   ],
   "source": [
    "# 브라켓([]) 사용하기. 이 방법은 많이 쓰이는 방법은 아님!\n",
    "titanic_sdf.select(titanic_sdf['Name']).show()"
   ]
  },
  {
   "cell_type": "code",
   "execution_count": 37,
   "id": "f8cb4547",
   "metadata": {},
   "outputs": [
    {
     "data": {
      "text/plain": [
       "Column<'(Fare * 100)'>"
      ]
     },
     "execution_count": 37,
     "metadata": {},
     "output_type": "execute_result"
    }
   ],
   "source": [
    "titanic_sdf['Fare'] * 100"
   ]
  },
  {
   "cell_type": "code",
   "execution_count": 38,
   "id": "e32a399a",
   "metadata": {},
   "outputs": [
    {
     "name": "stdout",
     "output_type": "stream",
     "text": [
      "+-------+-----------------+\n",
      "|   Fare|     (Fare * 100)|\n",
      "+-------+-----------------+\n",
      "|   7.25|            725.0|\n",
      "|71.2833|          7128.33|\n",
      "|  7.925|            792.5|\n",
      "|   53.1|           5310.0|\n",
      "|   8.05|805.0000000000001|\n",
      "| 8.4583|845.8299999999999|\n",
      "|51.8625|          5186.25|\n",
      "| 21.075|           2107.5|\n",
      "|11.1333|          1113.33|\n",
      "|30.0708|          3007.08|\n",
      "|   16.7|           1670.0|\n",
      "|  26.55|           2655.0|\n",
      "|   8.05|805.0000000000001|\n",
      "| 31.275|           3127.5|\n",
      "| 7.8542|           785.42|\n",
      "|   16.0|           1600.0|\n",
      "| 29.125|           2912.5|\n",
      "|   13.0|           1300.0|\n",
      "|   18.0|           1800.0|\n",
      "|  7.225|            722.5|\n",
      "+-------+-----------------+\n",
      "only showing top 20 rows\n",
      "\n"
     ]
    }
   ],
   "source": [
    "titanic_sdf.select(\n",
    "    titanic_sdf[\"Fare\"],\n",
    "    titanic_sdf[\"Fare\"] * 100\n",
    ").show()"
   ]
  },
  {
   "cell_type": "markdown",
   "id": "1e9a89d6",
   "metadata": {},
   "source": [
    "스파크 데이터프레임에서 컬럼을 다룰 때 가장 많이 사용하는 방식\n",
    "- `col`\n",
    "- Spark SQL에서 사용되는 모든 연산이 들어있는 패키지인 `pyspark.sql.functions` 에서 import"
   ]
  },
  {
   "cell_type": "code",
   "execution_count": 39,
   "id": "35c80dbd",
   "metadata": {},
   "outputs": [
    {
     "name": "stdout",
     "output_type": "stream",
     "text": [
      "+--------------------+-------+\n",
      "|                Name|   Fare|\n",
      "+--------------------+-------+\n",
      "|Braund, Mr. Owen ...|   7.25|\n",
      "|Cumings, Mrs. Joh...|71.2833|\n",
      "|Heikkinen, Miss. ...|  7.925|\n",
      "|Futrelle, Mrs. Ja...|   53.1|\n",
      "|Allen, Mr. Willia...|   8.05|\n",
      "|    Moran, Mr. James| 8.4583|\n",
      "|McCarthy, Mr. Tim...|51.8625|\n",
      "|Palsson, Master. ...| 21.075|\n",
      "|Johnson, Mrs. Osc...|11.1333|\n",
      "|Nasser, Mrs. Nich...|30.0708|\n",
      "|Sandstrom, Miss. ...|   16.7|\n",
      "|Bonnell, Miss. El...|  26.55|\n",
      "|Saundercock, Mr. ...|   8.05|\n",
      "|Andersson, Mr. An...| 31.275|\n",
      "|Vestrom, Miss. Hu...| 7.8542|\n",
      "|Hewlett, Mrs. (Ma...|   16.0|\n",
      "|Rice, Master. Eugene| 29.125|\n",
      "|Williams, Mr. Cha...|   13.0|\n",
      "|Vander Planke, Mr...|   18.0|\n",
      "|Masselmani, Mrs. ...|  7.225|\n",
      "+--------------------+-------+\n",
      "only showing top 20 rows\n",
      "\n"
     ]
    }
   ],
   "source": [
    "import pyspark.sql.functions as F\n",
    "\n",
    "titanic_sdf.select(\n",
    "    F.col(\"Name\"),\n",
    "    F.col(\"Fare\")\n",
    ").show()"
   ]
  },
  {
   "cell_type": "code",
   "execution_count": 40,
   "id": "5314c8fd",
   "metadata": {},
   "outputs": [
    {
     "data": {
      "text/plain": [
       "Column<'(Name * 100)'>"
      ]
     },
     "execution_count": 40,
     "metadata": {},
     "output_type": "execute_result"
    }
   ],
   "source": [
    "F.col(\"Name\") * 100"
   ]
  },
  {
   "cell_type": "code",
   "execution_count": 41,
   "id": "b2a3282f",
   "metadata": {},
   "outputs": [
    {
     "name": "stdout",
     "output_type": "stream",
     "text": [
      "+--------------------+--------------------+\n",
      "|                Name|            Cap Name|\n",
      "+--------------------+--------------------+\n",
      "|Braund, Mr. Owen ...|BRAUND, MR. OWEN ...|\n",
      "|Cumings, Mrs. Joh...|CUMINGS, MRS. JOH...|\n",
      "|Heikkinen, Miss. ...|HEIKKINEN, MISS. ...|\n",
      "|Futrelle, Mrs. Ja...|FUTRELLE, MRS. JA...|\n",
      "|Allen, Mr. Willia...|ALLEN, MR. WILLIA...|\n",
      "|    Moran, Mr. James|    MORAN, MR. JAMES|\n",
      "|McCarthy, Mr. Tim...|MCCARTHY, MR. TIM...|\n",
      "|Palsson, Master. ...|PALSSON, MASTER. ...|\n",
      "|Johnson, Mrs. Osc...|JOHNSON, MRS. OSC...|\n",
      "|Nasser, Mrs. Nich...|NASSER, MRS. NICH...|\n",
      "|Sandstrom, Miss. ...|SANDSTROM, MISS. ...|\n",
      "|Bonnell, Miss. El...|BONNELL, MISS. EL...|\n",
      "|Saundercock, Mr. ...|SAUNDERCOCK, MR. ...|\n",
      "|Andersson, Mr. An...|ANDERSSON, MR. AN...|\n",
      "|Vestrom, Miss. Hu...|VESTROM, MISS. HU...|\n",
      "|Hewlett, Mrs. (Ma...|HEWLETT, MRS. (MA...|\n",
      "|Rice, Master. Eugene|RICE, MASTER. EUGENE|\n",
      "|Williams, Mr. Cha...|WILLIAMS, MR. CHA...|\n",
      "|Vander Planke, Mr...|VANDER PLANKE, MR...|\n",
      "|Masselmani, Mrs. ...|MASSELMANI, MRS. ...|\n",
      "+--------------------+--------------------+\n",
      "only showing top 20 rows\n",
      "\n"
     ]
    }
   ],
   "source": [
    "titanic_sdf.select(\n",
    "    F.col(\"Name\"),\n",
    "    F.upper(F.col(\"Name\")).alias(\"Cap Name\")\n",
    ").show()"
   ]
  },
  {
   "cell_type": "code",
   "execution_count": 42,
   "id": "5bf56d27",
   "metadata": {},
   "outputs": [
    {
     "name": "stdout",
     "output_type": "stream",
     "text": [
      "+--------------------+-----------------+--------------+\n",
      "|                Name|     (Fare * 100)|lower embarked|\n",
      "+--------------------+-----------------+--------------+\n",
      "|Braund, Mr. Owen ...|            725.0|             s|\n",
      "|Cumings, Mrs. Joh...|          7128.33|             c|\n",
      "|Heikkinen, Miss. ...|            792.5|             s|\n",
      "|Futrelle, Mrs. Ja...|           5310.0|             s|\n",
      "|Allen, Mr. Willia...|805.0000000000001|             s|\n",
      "|    Moran, Mr. James|845.8299999999999|             q|\n",
      "|McCarthy, Mr. Tim...|          5186.25|             s|\n",
      "|Palsson, Master. ...|           2107.5|             s|\n",
      "|Johnson, Mrs. Osc...|          1113.33|             s|\n",
      "|Nasser, Mrs. Nich...|          3007.08|             c|\n",
      "|Sandstrom, Miss. ...|           1670.0|             s|\n",
      "|Bonnell, Miss. El...|           2655.0|             s|\n",
      "|Saundercock, Mr. ...|805.0000000000001|             s|\n",
      "|Andersson, Mr. An...|           3127.5|             s|\n",
      "|Vestrom, Miss. Hu...|           785.42|             s|\n",
      "|Hewlett, Mrs. (Ma...|           1600.0|             s|\n",
      "|Rice, Master. Eugene|           2912.5|             q|\n",
      "|Williams, Mr. Cha...|           1300.0|             s|\n",
      "|Vander Planke, Mr...|           1800.0|             s|\n",
      "|Masselmani, Mrs. ...|            722.5|             c|\n",
      "+--------------------+-----------------+--------------+\n",
      "only showing top 20 rows\n",
      "\n"
     ]
    }
   ],
   "source": [
    "# .을 이용해서도 컬럼 속성을 지정할 수 있음. 이 방식도 자주 사용되는 방식은 아님\n",
    "\n",
    "titanic_sdf.select(\n",
    "    titanic_sdf.Name,\n",
    "    titanic_sdf.Fare * 100,\n",
    "    F.lower(titanic_sdf.Embarked).alias(\"lower embarked\")\n",
    ").show()"
   ]
  },
  {
   "cell_type": "markdown",
   "id": "f9537e98",
   "metadata": {},
   "source": [
    "# Spark DataFrame의 filter() 메소드 알아보기\n",
    "- `filter()`는 SQL의 WHERE과 매우 흡사하게 특정 조건을 만족하는 레코드를 DataFrame으로 반환.\n",
    "- `filter()`내의 조건 컬럼은 컬럼 속성으로 지정이 가능.\n",
    "- 조건문 자체는 SQL과 유사한 문자열로 지정할 수 있다.\n",
    "    - 단, 조건 컬럼은 문자열 지정이 안된다.\n",
    "- `where` 메소드는 filter의 alias 버전이며, where과 직관적인 동일성을 간주하기 위해 생성.\n",
    "- 복합 조건 and는 &를, or를 사용. 개별 조건은 괄호()로 감싸야 한다.\n"
   ]
  },
  {
   "cell_type": "code",
   "execution_count": 43,
   "id": "9fd2d2b1",
   "metadata": {},
   "outputs": [
    {
     "data": {
      "text/plain": [
       "False"
      ]
     },
     "execution_count": 43,
     "metadata": {},
     "output_type": "execute_result"
    }
   ],
   "source": [
    "\"Embarked\" == \"Q\""
   ]
  },
  {
   "cell_type": "code",
   "execution_count": 45,
   "id": "f80ddb64",
   "metadata": {},
   "outputs": [
    {
     "name": "stdout",
     "output_type": "stream",
     "text": [
      "+-----------+--------+------+--------------------+------+----+-----+-----+------+------+-----+--------+\n",
      "|PassengerId|Survived|Pclass|                Name|   Sex| Age|SibSp|Parch|Ticket|  Fare|Cabin|Embarked|\n",
      "+-----------+--------+------+--------------------+------+----+-----+-----+------+------+-----+--------+\n",
      "|          6|       0|     3|    Moran, Mr. James|  male|null|    0|    0|330877|8.4583| null|       Q|\n",
      "|         17|       0|     3|Rice, Master. Eugene|  male| 2.0|    4|    1|382652|29.125| null|       Q|\n",
      "|         23|       1|     3|\"McGowan, Miss. A...|female|15.0|    0|    0|330923|8.0292| null|       Q|\n",
      "|         29|       1|     3|\"O'Dwyer, Miss. E...|female|null|    0|    0|330959|7.8792| null|       Q|\n",
      "|         33|       1|     3|Glynn, Miss. Mary...|female|null|    0|    0|335677|  7.75| null|       Q|\n",
      "|         45|       1|     3|Devaney, Miss. Ma...|female|19.0|    0|    0|330958|7.8792| null|       Q|\n",
      "|         47|       0|     3|   Lennon, Mr. Denis|  male|null|    1|    0|370371|  15.5| null|       Q|\n",
      "|         48|       1|     3|O'Driscoll, Miss....|female|null|    0|    0| 14311|  7.75| null|       Q|\n",
      "|         83|       1|     3|McDermott, Miss. ...|female|null|    0|    0|330932|7.7875| null|       Q|\n",
      "|        110|       1|     3| Moran, Miss. Bertha|female|null|    1|    0|371110| 24.15| null|       Q|\n",
      "|        117|       0|     3|Connors, Mr. Patrick|  male|70.5|    0|    0|370369|  7.75| null|       Q|\n",
      "|        127|       0|     3| McMahon, Mr. Martin|  male|null|    0|    0|370372|  7.75| null|       Q|\n",
      "|        144|       0|     3| Burke, Mr. Jeremiah|  male|19.0|    0|    0|365222|  6.75| null|       Q|\n",
      "|        157|       1|     3|\"Gilnagh, Miss. K...|female|16.0|    0|    0| 35851|7.7333| null|       Q|\n",
      "|        172|       0|     3|Rice, Master. Arthur|  male| 4.0|    4|    1|382652|29.125| null|       Q|\n",
      "|        187|       1|     3|\"O'Brien, Mrs. Th...|female|null|    1|    0|370365|  15.5| null|       Q|\n",
      "|        189|       0|     3|    Bourke, Mr. John|  male|40.0|    1|    1|364849|  15.5| null|       Q|\n",
      "|        197|       0|     3| Mernagh, Mr. Robert|  male|null|    0|    0|368703|  7.75| null|       Q|\n",
      "|        199|       1|     3|\"Madigan, Miss. M...|female|null|    0|    0|370370|  7.75| null|       Q|\n",
      "|        209|       1|     3|\"Carr, Miss. Hele...|female|16.0|    0|    0|367231|  7.75| null|       Q|\n",
      "+-----------+--------+------+--------------------+------+----+-----+-----+------+------+-----+--------+\n",
      "only showing top 20 rows\n",
      "\n"
     ]
    }
   ],
   "source": [
    "# titanic_sdf.filter(\"Embarked==Q\").show()\n",
    "# titanic_sdf.filter(\"Embarked\"==\"Q\").show()\n",
    "\n",
    "titanic_sdf.filter(F.col(\"Embarked\")==\"Q\").show()"
   ]
  },
  {
   "cell_type": "code",
   "execution_count": 46,
   "id": "0ae146b8",
   "metadata": {},
   "outputs": [
    {
     "name": "stdout",
     "output_type": "stream",
     "text": [
      "+-----------+--------+------+--------------------+------+----+-----+-----+----------------+-------+-----+--------+\n",
      "|PassengerId|Survived|Pclass|                Name|   Sex| Age|SibSp|Parch|          Ticket|   Fare|Cabin|Embarked|\n",
      "+-----------+--------+------+--------------------+------+----+-----+-----+----------------+-------+-----+--------+\n",
      "|          1|       0|     3|Braund, Mr. Owen ...|  male|22.0|    1|    0|       A/5 21171|   7.25| null|       S|\n",
      "|          3|       1|     3|Heikkinen, Miss. ...|female|26.0|    0|    0|STON/O2. 3101282|  7.925| null|       S|\n",
      "|          4|       1|     1|Futrelle, Mrs. Ja...|female|35.0|    1|    0|          113803|   53.1| C123|       S|\n",
      "|          5|       0|     3|Allen, Mr. Willia...|  male|35.0|    0|    0|          373450|   8.05| null|       S|\n",
      "|          7|       0|     1|McCarthy, Mr. Tim...|  male|54.0|    0|    0|           17463|51.8625|  E46|       S|\n",
      "|          8|       0|     3|Palsson, Master. ...|  male| 2.0|    3|    1|          349909| 21.075| null|       S|\n",
      "|          9|       1|     3|Johnson, Mrs. Osc...|female|27.0|    0|    2|          347742|11.1333| null|       S|\n",
      "|         11|       1|     3|Sandstrom, Miss. ...|female| 4.0|    1|    1|         PP 9549|   16.7|   G6|       S|\n",
      "|         12|       1|     1|Bonnell, Miss. El...|female|58.0|    0|    0|          113783|  26.55| C103|       S|\n",
      "|         13|       0|     3|Saundercock, Mr. ...|  male|20.0|    0|    0|       A/5. 2151|   8.05| null|       S|\n",
      "|         14|       0|     3|Andersson, Mr. An...|  male|39.0|    1|    5|          347082| 31.275| null|       S|\n",
      "|         15|       0|     3|Vestrom, Miss. Hu...|female|14.0|    0|    0|          350406| 7.8542| null|       S|\n",
      "|         16|       1|     2|Hewlett, Mrs. (Ma...|female|55.0|    0|    0|          248706|   16.0| null|       S|\n",
      "|         18|       1|     2|Williams, Mr. Cha...|  male|null|    0|    0|          244373|   13.0| null|       S|\n",
      "|         19|       0|     3|Vander Planke, Mr...|female|31.0|    1|    0|          345763|   18.0| null|       S|\n",
      "|         21|       0|     2|Fynney, Mr. Joseph J|  male|35.0|    0|    0|          239865|   26.0| null|       S|\n",
      "|         22|       1|     2|Beesley, Mr. Lawr...|  male|34.0|    0|    0|          248698|   13.0|  D56|       S|\n",
      "|         24|       1|     1|Sloper, Mr. Willi...|  male|28.0|    0|    0|          113788|   35.5|   A6|       S|\n",
      "|         25|       0|     3|Palsson, Miss. To...|female| 8.0|    3|    1|          349909| 21.075| null|       S|\n",
      "|         26|       1|     3|Asplund, Mrs. Car...|female|38.0|    1|    5|          347077|31.3875| null|       S|\n",
      "+-----------+--------+------+--------------------+------+----+-----+-----+----------------+-------+-----+--------+\n",
      "only showing top 20 rows\n",
      "\n"
     ]
    }
   ],
   "source": [
    "titanic_sdf.where(F.col(\"Embarked\")==\"S\").show()"
   ]
  },
  {
   "cell_type": "code",
   "execution_count": 47,
   "id": "25cc2da8",
   "metadata": {},
   "outputs": [
    {
     "name": "stdout",
     "output_type": "stream",
     "text": [
      "+-----------+--------+------+--------------------+------+----+-----+-----+------+------+-----+--------+\n",
      "|PassengerId|Survived|Pclass|                Name|   Sex| Age|SibSp|Parch|Ticket|  Fare|Cabin|Embarked|\n",
      "+-----------+--------+------+--------------------+------+----+-----+-----+------+------+-----+--------+\n",
      "|          6|       0|     3|    Moran, Mr. James|  male|null|    0|    0|330877|8.4583| null|       Q|\n",
      "|         17|       0|     3|Rice, Master. Eugene|  male| 2.0|    4|    1|382652|29.125| null|       Q|\n",
      "|         23|       1|     3|\"McGowan, Miss. A...|female|15.0|    0|    0|330923|8.0292| null|       Q|\n",
      "|         29|       1|     3|\"O'Dwyer, Miss. E...|female|null|    0|    0|330959|7.8792| null|       Q|\n",
      "|         33|       1|     3|Glynn, Miss. Mary...|female|null|    0|    0|335677|  7.75| null|       Q|\n",
      "|         45|       1|     3|Devaney, Miss. Ma...|female|19.0|    0|    0|330958|7.8792| null|       Q|\n",
      "|         47|       0|     3|   Lennon, Mr. Denis|  male|null|    1|    0|370371|  15.5| null|       Q|\n",
      "|         48|       1|     3|O'Driscoll, Miss....|female|null|    0|    0| 14311|  7.75| null|       Q|\n",
      "|         83|       1|     3|McDermott, Miss. ...|female|null|    0|    0|330932|7.7875| null|       Q|\n",
      "|        110|       1|     3| Moran, Miss. Bertha|female|null|    1|    0|371110| 24.15| null|       Q|\n",
      "|        117|       0|     3|Connors, Mr. Patrick|  male|70.5|    0|    0|370369|  7.75| null|       Q|\n",
      "|        127|       0|     3| McMahon, Mr. Martin|  male|null|    0|    0|370372|  7.75| null|       Q|\n",
      "|        144|       0|     3| Burke, Mr. Jeremiah|  male|19.0|    0|    0|365222|  6.75| null|       Q|\n",
      "|        157|       1|     3|\"Gilnagh, Miss. K...|female|16.0|    0|    0| 35851|7.7333| null|       Q|\n",
      "|        172|       0|     3|Rice, Master. Arthur|  male| 4.0|    4|    1|382652|29.125| null|       Q|\n",
      "|        187|       1|     3|\"O'Brien, Mrs. Th...|female|null|    1|    0|370365|  15.5| null|       Q|\n",
      "|        189|       0|     3|    Bourke, Mr. John|  male|40.0|    1|    1|364849|  15.5| null|       Q|\n",
      "|        197|       0|     3| Mernagh, Mr. Robert|  male|null|    0|    0|368703|  7.75| null|       Q|\n",
      "|        199|       1|     3|\"Madigan, Miss. M...|female|null|    0|    0|370370|  7.75| null|       Q|\n",
      "|        209|       1|     3|\"Carr, Miss. Hele...|female|16.0|    0|    0|367231|  7.75| null|       Q|\n",
      "+-----------+--------+------+--------------------+------+----+-----+-----+------+------+-----+--------+\n",
      "only showing top 20 rows\n",
      "\n"
     ]
    }
   ],
   "source": [
    "titanic_sdf.filter(\"Embarked == 'Q'\").show()"
   ]
  },
  {
   "cell_type": "code",
   "execution_count": 50,
   "id": "8faa0667",
   "metadata": {},
   "outputs": [
    {
     "name": "stdout",
     "output_type": "stream",
     "text": [
      "+-----------+--------+------+--------------------+------+----+-----+-----+-----------+-------+-----------+--------+\n",
      "|PassengerId|Survived|Pclass|                Name|   Sex| Age|SibSp|Parch|     Ticket|   Fare|      Cabin|Embarked|\n",
      "+-----------+--------+------+--------------------+------+----+-----+-----+-----------+-------+-----------+--------+\n",
      "|          4|       1|     1|Futrelle, Mrs. Ja...|female|35.0|    1|    0|     113803|   53.1|       C123|       S|\n",
      "|          7|       0|     1|McCarthy, Mr. Tim...|  male|54.0|    0|    0|      17463|51.8625|        E46|       S|\n",
      "|         12|       1|     1|Bonnell, Miss. El...|female|58.0|    0|    0|     113783|  26.55|       C103|       S|\n",
      "|         24|       1|     1|Sloper, Mr. Willi...|  male|28.0|    0|    0|     113788|   35.5|         A6|       S|\n",
      "|         28|       0|     1|Fortune, Mr. Char...|  male|19.0|    3|    2|      19950|  263.0|C23 C25 C27|       S|\n",
      "|         36|       0|     1|Holverson, Mr. Al...|  male|42.0|    1|    0|     113789|   52.0|       null|       S|\n",
      "|         56|       1|     1|   Woolner, Mr. Hugh|  male|null|    0|    0|      19947|   35.5|        C52|       S|\n",
      "|         63|       0|     1|Harris, Mr. Henry...|  male|45.0|    1|    0|      36973| 83.475|        C83|       S|\n",
      "|         84|       0|     1|Carrau, Mr. Franc...|  male|28.0|    0|    0|     113059|   47.1|       null|       S|\n",
      "|         89|       1|     1|Fortune, Miss. Ma...|female|23.0|    3|    2|      19950|  263.0|C23 C25 C27|       S|\n",
      "|         93|       0|     1|Chaffee, Mr. Herb...|  male|46.0|    1|    0|W.E.P. 5734| 61.175|        E31|       S|\n",
      "|        103|       0|     1|White, Mr. Richar...|  male|21.0|    0|    1|      35281|77.2875|        D26|       S|\n",
      "|        111|       0|     1|Porter, Mr. Walte...|  male|47.0|    0|    0|     110465|   52.0|       C110|       S|\n",
      "|        125|       0|     1|White, Mr. Perciv...|  male|54.0|    0|    1|      35281|77.2875|        D26|       S|\n",
      "|        137|       1|     1|Newsom, Miss. Hel...|female|19.0|    0|    2|      11752|26.2833|        D47|       S|\n",
      "|        138|       0|     1|Futrelle, Mr. Jac...|  male|37.0|    1|    0|     113803|   53.1|       C123|       S|\n",
      "|        152|       1|     1|Pears, Mrs. Thoma...|female|22.0|    1|    0|     113776|   66.6|         C2|       S|\n",
      "|        167|       1|     1|Chibnall, Mrs. (E...|female|null|    0|    1|     113505|   55.0|        E33|       S|\n",
      "|        169|       0|     1| Baumann, Mr. John D|  male|null|    0|    0|   PC 17318| 25.925|       null|       S|\n",
      "|        171|       0|     1|Van der hoef, Mr....|  male|61.0|    0|    0|     111240|   33.5|        B19|       S|\n",
      "+-----------+--------+------+--------------------+------+----+-----+-----+-----------+-------+-----------+--------+\n",
      "only showing top 20 rows\n",
      "\n"
     ]
    }
   ],
   "source": [
    "# AND -> &\n",
    "# Embarked 가  S고, Pclass 가 1인 사람의 정보\n",
    "titanic_sdf.filter(\n",
    "(F.col(\"Embarked\")==\"S\") & (F.col(\"Pclass\")==1)\n",
    ").show()"
   ]
  },
  {
   "cell_type": "code",
   "execution_count": 52,
   "id": "d100039b",
   "metadata": {},
   "outputs": [
    {
     "name": "stdout",
     "output_type": "stream",
     "text": [
      "+-----------+--------+------+--------------------+------+----+-----+-----+----------------+-------+-----+--------+\n",
      "|PassengerId|Survived|Pclass|                Name|   Sex| Age|SibSp|Parch|          Ticket|   Fare|Cabin|Embarked|\n",
      "+-----------+--------+------+--------------------+------+----+-----+-----+----------------+-------+-----+--------+\n",
      "|          1|       0|     3|Braund, Mr. Owen ...|  male|22.0|    1|    0|       A/5 21171|   7.25| null|       S|\n",
      "|          3|       1|     3|Heikkinen, Miss. ...|female|26.0|    0|    0|STON/O2. 3101282|  7.925| null|       S|\n",
      "|          4|       1|     1|Futrelle, Mrs. Ja...|female|35.0|    1|    0|          113803|   53.1| C123|       S|\n",
      "|          5|       0|     3|Allen, Mr. Willia...|  male|35.0|    0|    0|          373450|   8.05| null|       S|\n",
      "|          7|       0|     1|McCarthy, Mr. Tim...|  male|54.0|    0|    0|           17463|51.8625|  E46|       S|\n",
      "|          8|       0|     3|Palsson, Master. ...|  male| 2.0|    3|    1|          349909| 21.075| null|       S|\n",
      "|          9|       1|     3|Johnson, Mrs. Osc...|female|27.0|    0|    2|          347742|11.1333| null|       S|\n",
      "|         10|       1|     2|Nasser, Mrs. Nich...|female|14.0|    1|    0|          237736|30.0708| null|       C|\n",
      "|         11|       1|     3|Sandstrom, Miss. ...|female| 4.0|    1|    1|         PP 9549|   16.7|   G6|       S|\n",
      "|         12|       1|     1|Bonnell, Miss. El...|female|58.0|    0|    0|          113783|  26.55| C103|       S|\n",
      "|         13|       0|     3|Saundercock, Mr. ...|  male|20.0|    0|    0|       A/5. 2151|   8.05| null|       S|\n",
      "|         14|       0|     3|Andersson, Mr. An...|  male|39.0|    1|    5|          347082| 31.275| null|       S|\n",
      "|         15|       0|     3|Vestrom, Miss. Hu...|female|14.0|    0|    0|          350406| 7.8542| null|       S|\n",
      "|         16|       1|     2|Hewlett, Mrs. (Ma...|female|55.0|    0|    0|          248706|   16.0| null|       S|\n",
      "|         18|       1|     2|Williams, Mr. Cha...|  male|null|    0|    0|          244373|   13.0| null|       S|\n",
      "|         19|       0|     3|Vander Planke, Mr...|female|31.0|    1|    0|          345763|   18.0| null|       S|\n",
      "|         21|       0|     2|Fynney, Mr. Joseph J|  male|35.0|    0|    0|          239865|   26.0| null|       S|\n",
      "|         22|       1|     2|Beesley, Mr. Lawr...|  male|34.0|    0|    0|          248698|   13.0|  D56|       S|\n",
      "|         24|       1|     1|Sloper, Mr. Willi...|  male|28.0|    0|    0|          113788|   35.5|   A6|       S|\n",
      "|         25|       0|     3|Palsson, Miss. To...|female| 8.0|    3|    1|          349909| 21.075| null|       S|\n",
      "+-----------+--------+------+--------------------+------+----+-----+-----+----------------+-------+-----+--------+\n",
      "only showing top 20 rows\n",
      "\n"
     ]
    }
   ],
   "source": [
    "# OR -> |\n",
    "# Embarked 가 S 이거나 Pclass 가 2인 사람의 정보\n",
    "titanic_sdf.filter(\n",
    "(F.col(\"Embarked\")==\"S\") | (F.col(\"Pclass\")==2)\n",
    ").show()"
   ]
  },
  {
   "cell_type": "code",
   "execution_count": 54,
   "id": "5177c16c",
   "metadata": {},
   "outputs": [
    {
     "name": "stdout",
     "output_type": "stream",
     "text": [
      "+-----------+--------+------+--------------------+------+----+-----+-----+----------------+-------+-----+--------+\n",
      "|PassengerId|Survived|Pclass|                Name|   Sex| Age|SibSp|Parch|          Ticket|   Fare|Cabin|Embarked|\n",
      "+-----------+--------+------+--------------------+------+----+-----+-----+----------------+-------+-----+--------+\n",
      "|          3|       1|     3|Heikkinen, Miss. ...|female|26.0|    0|    0|STON/O2. 3101282|  7.925| null|       S|\n",
      "|         11|       1|     3|Sandstrom, Miss. ...|female| 4.0|    1|    1|         PP 9549|   16.7|   G6|       S|\n",
      "|         12|       1|     1|Bonnell, Miss. El...|female|58.0|    0|    0|          113783|  26.55| C103|       S|\n",
      "|         15|       0|     3|Vestrom, Miss. Hu...|female|14.0|    0|    0|          350406| 7.8542| null|       S|\n",
      "|         23|       1|     3|\"McGowan, Miss. A...|female|15.0|    0|    0|          330923| 8.0292| null|       Q|\n",
      "|         25|       0|     3|Palsson, Miss. To...|female| 8.0|    3|    1|          349909| 21.075| null|       S|\n",
      "|         29|       1|     3|\"O'Dwyer, Miss. E...|female|null|    0|    0|          330959| 7.8792| null|       Q|\n",
      "|         33|       1|     3|Glynn, Miss. Mary...|female|null|    0|    0|          335677|   7.75| null|       Q|\n",
      "|         39|       0|     3|Vander Planke, Mi...|female|18.0|    2|    0|          345764|   18.0| null|       S|\n",
      "|         40|       1|     3|Nicola-Yarred, Mi...|female|14.0|    1|    0|            2651|11.2417| null|       C|\n",
      "|         44|       1|     2|Laroche, Miss. Si...|female| 3.0|    1|    2|   SC/Paris 2123|41.5792| null|       C|\n",
      "|         45|       1|     3|Devaney, Miss. Ma...|female|19.0|    0|    0|          330958| 7.8792| null|       Q|\n",
      "|         48|       1|     3|O'Driscoll, Miss....|female|null|    0|    0|           14311|   7.75| null|       Q|\n",
      "|         57|       1|     2|   Rugg, Miss. Emily|female|21.0|    0|    0|      C.A. 31026|   10.5| null|       S|\n",
      "|         59|       1|     2|West, Miss. Const...|female| 5.0|    1|    2|      C.A. 34651|  27.75| null|       S|\n",
      "|         62|       1|     1| Icard, Miss. Amelie|female|38.0|    0|    0|          113572|   80.0|  B28|    null|\n",
      "|         69|       1|     3|Andersson, Miss. ...|female|17.0|    4|    2|         3101281|  7.925| null|       S|\n",
      "|         72|       0|     3|Goodwin, Miss. Li...|female|16.0|    5|    2|         CA 2144|   46.9| null|       S|\n",
      "|         80|       1|     3|Dowdell, Miss. El...|female|30.0|    0|    0|          364516| 12.475| null|       S|\n",
      "|         83|       1|     3|McDermott, Miss. ...|female|null|    0|    0|          330932| 7.7875| null|       Q|\n",
      "+-----------+--------+------+--------------------+------+----+-----+-----+----------------+-------+-----+--------+\n",
      "only showing top 20 rows\n",
      "\n"
     ]
    }
   ],
   "source": [
    "# 이름에 Miss가 들어가는 사람의 정보 가져오기 -> like\n",
    "titanic_sdf.filter(\n",
    "    F.col(\"Name\").like(\"%Miss%\")\n",
    ").show()"
   ]
  },
  {
   "cell_type": "code",
   "execution_count": 60,
   "id": "e825f232",
   "metadata": {},
   "outputs": [
    {
     "name": "stdout",
     "output_type": "stream",
     "text": [
      "+--------------------+\n",
      "|          lower Name|\n",
      "+--------------------+\n",
      "|heikkinen, miss. ...|\n",
      "|hewlett, mrs. (ma...|\n",
      "|holverson, mr. al...|\n",
      "|harper, mrs. henr...|\n",
      "|harris, mr. henry...|\n",
      "|hood, mr. ambrose jr|\n",
      "|hickman, mr. stan...|\n",
      "|hakkarainen, mrs....|\n",
      "|  hale, mr. reginald|\n",
      "|honkanen, miss. e...|\n",
      "|  harris, mr. walter|\n",
      "|hoyt, mr. frederi...|\n",
      "|harris, mrs. henr...|\n",
      "|harknett, miss. a...|\n",
      "|   hold, mr. stephen|\n",
      "|hunt, mr. george ...|\n",
      "|hamalainen, mrs. ...|\n",
      "|harrison, mr. wil...|\n",
      "|  henry, miss. delia|\n",
      "|hosono, mr. masabumi|\n",
      "+--------------------+\n",
      "only showing top 20 rows\n",
      "\n"
     ]
    }
   ],
   "source": [
    "# 소문자 h로 시작하는 사람을 찾아서 이름을 문자로 바꾸기\n",
    "#\n",
    "titanic_sdf.filter(\n",
    "    F.col(\"Name\").like(\"H%\")\n",
    ").select( F.lower(F.col(\"Name\")).alias(\"lower Name\")\n",
    ").show()"
   ]
  },
  {
   "cell_type": "code",
   "execution_count": 63,
   "id": "7b6fcb8a",
   "metadata": {},
   "outputs": [
    {
     "name": "stdout",
     "output_type": "stream",
     "text": [
      "+--------------------+\n",
      "|         upper(Name)|\n",
      "+--------------------+\n",
      "|HEIKKINEN, MISS. ...|\n",
      "|HEWLETT, MRS. (MA...|\n",
      "|HOLVERSON, MR. AL...|\n",
      "|HARPER, MRS. HENR...|\n",
      "|HARRIS, MR. HENRY...|\n",
      "|HOOD, MR. AMBROSE JR|\n",
      "|HICKMAN, MR. STAN...|\n",
      "|HAKKARAINEN, MRS....|\n",
      "|  HALE, MR. REGINALD|\n",
      "|HONKANEN, MISS. E...|\n",
      "|  HARRIS, MR. WALTER|\n",
      "|HOYT, MR. FREDERI...|\n",
      "|HARRIS, MRS. HENR...|\n",
      "|HARKNETT, MISS. A...|\n",
      "|   HOLD, MR. STEPHEN|\n",
      "|HUNT, MR. GEORGE ...|\n",
      "|HAMALAINEN, MRS. ...|\n",
      "|HARRISON, MR. WIL...|\n",
      "|  HENRY, MISS. DELIA|\n",
      "|HOSONO, MR. MASABUMI|\n",
      "+--------------------+\n",
      "only showing top 20 rows\n",
      "\n"
     ]
    }
   ],
   "source": [
    "titanic_sdf.filter(\n",
    "    F.lower(F.col(\"Name\")).like(\"h%\")\n",
    ").select(\n",
    "    F.upper(F.col(\"Name\"))\n",
    ").show()"
   ]
  },
  {
   "cell_type": "code",
   "execution_count": 64,
   "id": "e4971f85",
   "metadata": {},
   "outputs": [
    {
     "name": "stdout",
     "output_type": "stream",
     "text": [
      "+-----------+--------+------+--------------------+------+----+-----+-----+---------+-------+-----------+--------+\n",
      "|PassengerId|Survived|Pclass|                Name|   Sex| Age|SibSp|Parch|   Ticket|   Fare|      Cabin|Embarked|\n",
      "+-----------+--------+------+--------------------+------+----+-----+-----+---------+-------+-----------+--------+\n",
      "|          1|       0|     3|Braund, Mr. Owen ...|  male|22.0|    1|    0|A/5 21171|   7.25|       null|       S|\n",
      "|          2|       1|     1|Cumings, Mrs. Joh...|female|38.0|    1|    0| PC 17599|71.2833|        C85|       C|\n",
      "|          4|       1|     1|Futrelle, Mrs. Ja...|female|35.0|    1|    0|   113803|   53.1|       C123|       S|\n",
      "|          5|       0|     3|Allen, Mr. Willia...|  male|35.0|    0|    0|   373450|   8.05|       null|       S|\n",
      "|          6|       0|     3|    Moran, Mr. James|  male|null|    0|    0|   330877| 8.4583|       null|       Q|\n",
      "|          7|       0|     1|McCarthy, Mr. Tim...|  male|54.0|    0|    0|    17463|51.8625|        E46|       S|\n",
      "|          9|       1|     3|Johnson, Mrs. Osc...|female|27.0|    0|    2|   347742|11.1333|       null|       S|\n",
      "|         10|       1|     2|Nasser, Mrs. Nich...|female|14.0|    1|    0|   237736|30.0708|       null|       C|\n",
      "|         13|       0|     3|Saundercock, Mr. ...|  male|20.0|    0|    0|A/5. 2151|   8.05|       null|       S|\n",
      "|         14|       0|     3|Andersson, Mr. An...|  male|39.0|    1|    5|   347082| 31.275|       null|       S|\n",
      "|         16|       1|     2|Hewlett, Mrs. (Ma...|female|55.0|    0|    0|   248706|   16.0|       null|       S|\n",
      "|         18|       1|     2|Williams, Mr. Cha...|  male|null|    0|    0|   244373|   13.0|       null|       S|\n",
      "|         19|       0|     3|Vander Planke, Mr...|female|31.0|    1|    0|   345763|   18.0|       null|       S|\n",
      "|         20|       1|     3|Masselmani, Mrs. ...|female|null|    0|    0|     2649|  7.225|       null|       C|\n",
      "|         21|       0|     2|Fynney, Mr. Joseph J|  male|35.0|    0|    0|   239865|   26.0|       null|       S|\n",
      "|         22|       1|     2|Beesley, Mr. Lawr...|  male|34.0|    0|    0|   248698|   13.0|        D56|       S|\n",
      "|         24|       1|     1|Sloper, Mr. Willi...|  male|28.0|    0|    0|   113788|   35.5|         A6|       S|\n",
      "|         26|       1|     3|Asplund, Mrs. Car...|female|38.0|    1|    5|   347077|31.3875|       null|       S|\n",
      "|         27|       0|     3|Emir, Mr. Farred ...|  male|null|    0|    0|     2631|  7.225|       null|       C|\n",
      "|         28|       0|     1|Fortune, Mr. Char...|  male|19.0|    3|    2|    19950|  263.0|C23 C25 C27|       S|\n",
      "+-----------+--------+------+--------------------+------+----+-----+-----+---------+-------+-----------+--------+\n",
      "only showing top 20 rows\n",
      "\n"
     ]
    }
   ],
   "source": [
    "titanic_sdf.filter(\n",
    "    \"Name like '%Mr%'\"\n",
    ").show()"
   ]
  },
  {
   "cell_type": "code",
   "execution_count": 65,
   "id": "a95e4be8",
   "metadata": {},
   "outputs": [
    {
     "name": "stdout",
     "output_type": "stream",
     "text": [
      "+-----------+--------+------+--------------------+------+----+-----+-----+---------+-------+-----------+--------+\n",
      "|PassengerId|Survived|Pclass|                Name|   Sex| Age|SibSp|Parch|   Ticket|   Fare|      Cabin|Embarked|\n",
      "+-----------+--------+------+--------------------+------+----+-----+-----+---------+-------+-----------+--------+\n",
      "|          1|       0|     3|Braund, Mr. Owen ...|  male|22.0|    1|    0|A/5 21171|   7.25|       null|       S|\n",
      "|          2|       1|     1|Cumings, Mrs. Joh...|female|38.0|    1|    0| PC 17599|71.2833|        C85|       C|\n",
      "|          4|       1|     1|Futrelle, Mrs. Ja...|female|35.0|    1|    0|   113803|   53.1|       C123|       S|\n",
      "|          5|       0|     3|Allen, Mr. Willia...|  male|35.0|    0|    0|   373450|   8.05|       null|       S|\n",
      "|          6|       0|     3|    Moran, Mr. James|  male|null|    0|    0|   330877| 8.4583|       null|       Q|\n",
      "|          7|       0|     1|McCarthy, Mr. Tim...|  male|54.0|    0|    0|    17463|51.8625|        E46|       S|\n",
      "|          9|       1|     3|Johnson, Mrs. Osc...|female|27.0|    0|    2|   347742|11.1333|       null|       S|\n",
      "|         10|       1|     2|Nasser, Mrs. Nich...|female|14.0|    1|    0|   237736|30.0708|       null|       C|\n",
      "|         13|       0|     3|Saundercock, Mr. ...|  male|20.0|    0|    0|A/5. 2151|   8.05|       null|       S|\n",
      "|         14|       0|     3|Andersson, Mr. An...|  male|39.0|    1|    5|   347082| 31.275|       null|       S|\n",
      "|         16|       1|     2|Hewlett, Mrs. (Ma...|female|55.0|    0|    0|   248706|   16.0|       null|       S|\n",
      "|         18|       1|     2|Williams, Mr. Cha...|  male|null|    0|    0|   244373|   13.0|       null|       S|\n",
      "|         19|       0|     3|Vander Planke, Mr...|female|31.0|    1|    0|   345763|   18.0|       null|       S|\n",
      "|         20|       1|     3|Masselmani, Mrs. ...|female|null|    0|    0|     2649|  7.225|       null|       C|\n",
      "|         21|       0|     2|Fynney, Mr. Joseph J|  male|35.0|    0|    0|   239865|   26.0|       null|       S|\n",
      "|         22|       1|     2|Beesley, Mr. Lawr...|  male|34.0|    0|    0|   248698|   13.0|        D56|       S|\n",
      "|         24|       1|     1|Sloper, Mr. Willi...|  male|28.0|    0|    0|   113788|   35.5|         A6|       S|\n",
      "|         26|       1|     3|Asplund, Mrs. Car...|female|38.0|    1|    5|   347077|31.3875|       null|       S|\n",
      "|         27|       0|     3|Emir, Mr. Farred ...|  male|null|    0|    0|     2631|  7.225|       null|       C|\n",
      "|         28|       0|     1|Fortune, Mr. Char...|  male|19.0|    3|    2|    19950|  263.0|C23 C25 C27|       S|\n",
      "+-----------+--------+------+--------------------+------+----+-----+-----+---------+-------+-----------+--------+\n",
      "only showing top 20 rows\n",
      "\n"
     ]
    }
   ],
   "source": [
    "titanic_sdf.filter(\n",
    "    \"lower(Name) like '%mr%'\"\n",
    ").show()"
   ]
  },
  {
   "cell_type": "code",
   "execution_count": 66,
   "id": "d25a48b7",
   "metadata": {},
   "outputs": [],
   "source": [
    "spark.stop()"
   ]
  }
 ],
 "metadata": {
  "kernelspec": {
   "display_name": "Python 3 (ipykernel)",
   "language": "python",
   "name": "python3"
  },
  "language_info": {
   "codemirror_mode": {
    "name": "ipython",
    "version": 3
   },
   "file_extension": ".py",
   "mimetype": "text/x-python",
   "name": "python",
   "nbconvert_exporter": "python",
   "pygments_lexer": "ipython3",
   "version": "3.8.17"
  }
 },
 "nbformat": 4,
 "nbformat_minor": 5
}
