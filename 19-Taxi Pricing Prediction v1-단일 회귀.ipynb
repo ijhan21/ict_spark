{
 "cells": [
  {
   "cell_type": "code",
   "execution_count": 2,
   "metadata": {},
   "outputs": [
    {
     "name": "stderr",
     "output_type": "stream",
     "text": [
      "Using Spark's default log4j profile: org/apache/spark/log4j-defaults.properties\n",
      "Setting default log level to \"WARN\".\n",
      "To adjust logging level use sc.setLogLevel(newLevel). For SparkR, use setLogLevel(newLevel).\n",
      "23/08/03 19:55:55 WARN NativeCodeLoader: Unable to load native-hadoop library for your platform... using builtin-java classes where applicable\n",
      "                                                                                \r"
     ]
    }
   ],
   "source": [
    "from pyspark.sql import SparkSession\n",
    "\n",
    "spark = SparkSession.builder.appName(\"trip_count_sql\").getOrCreate()\n",
    "\n",
    "directory=\"/home/ubuntu/working/spark-examples/data/\"\n",
    "trip_files=\"trips/*\"\n",
    "\n",
    "trips_df = spark.read.csv(f\"file://{directory}/{trip_files}\", inferSchema=True, header=True)"
   ]
  },
  {
   "cell_type": "code",
   "execution_count": 3,
   "metadata": {},
   "outputs": [
    {
     "name": "stdout",
     "output_type": "stream",
     "text": [
      "root\n",
      " |-- VendorID: integer (nullable = true)\n",
      " |-- tpep_pickup_datetime: string (nullable = true)\n",
      " |-- tpep_dropoff_datetime: string (nullable = true)\n",
      " |-- passenger_count: integer (nullable = true)\n",
      " |-- trip_distance: double (nullable = true)\n",
      " |-- RatecodeID: integer (nullable = true)\n",
      " |-- store_and_fwd_flag: string (nullable = true)\n",
      " |-- PULocationID: integer (nullable = true)\n",
      " |-- DOLocationID: integer (nullable = true)\n",
      " |-- payment_type: integer (nullable = true)\n",
      " |-- fare_amount: double (nullable = true)\n",
      " |-- extra: double (nullable = true)\n",
      " |-- mta_tax: double (nullable = true)\n",
      " |-- tip_amount: double (nullable = true)\n",
      " |-- tolls_amount: double (nullable = true)\n",
      " |-- improvement_surcharge: double (nullable = true)\n",
      " |-- total_amount: double (nullable = true)\n",
      " |-- congestion_surcharge: double (nullable = true)\n",
      "\n"
     ]
    }
   ],
   "source": [
    "trips_df.printSchema()"
   ]
  },
  {
   "cell_type": "code",
   "execution_count": 4,
   "metadata": {},
   "outputs": [],
   "source": [
    "trips_df.createOrReplaceTempView(\"trips\")"
   ]
  },
  {
   "cell_type": "markdown",
   "metadata": {},
   "source": [
    "# 단일 회귀\n",
    "- 독립 변수 x가 하나, 종속 변수 y도 하나인 회귀 방식\n",
    "- $\\hat{y} = wx + b$\n",
    "- 운행거리(`trips_distance` $x$)에 따른 요금(`total_amount` $\\hat{y}$)를 예측"
   ]
  },
  {
   "cell_type": "code",
   "execution_count": 5,
   "metadata": {},
   "outputs": [],
   "source": [
    "# 데이터 마트 구성\n",
    "query = \"\"\"\n",
    "SELECT\n",
    "    trip_distance,\n",
    "    total_amount\n",
    "FROM \n",
    "    trips\n",
    "WHERE total_amount < 5000\n",
    "  AND total_amount > 0\n",
    "  AND passenger_count < 5\n",
    "  AND trip_distance > 0\n",
    "  AND trip_distance < 500\n",
    "  AND TO_DATE(tpep_pickup_datetime) >= '2021-01-01'\n",
    "  AND TO_DATE(tpep_pickup_datetime) <  '2021-08-01'\n",
    "\"\"\"\n",
    "\n",
    "data_df = spark.sql(query)\n",
    "data_df.createOrReplaceTempView(\"data\") # 데이터 마트 생성"
   ]
  },
  {
   "cell_type": "code",
   "execution_count": 9,
   "metadata": {},
   "outputs": [
    {
     "name": "stdout",
     "output_type": "stream",
     "text": [
      "+-------------+------------+\n",
      "|trip_distance|total_amount|\n",
      "+-------------+------------+\n",
      "|         16.5|       70.07|\n",
      "|         1.13|       11.16|\n",
      "|         2.68|       18.59|\n",
      "|         12.4|        43.8|\n",
      "|          9.7|        32.3|\n",
      "|          9.3|       43.67|\n",
      "|         9.58|        46.1|\n",
      "|         16.2|        45.3|\n",
      "|         3.58|        19.3|\n",
      "|         0.91|        14.8|\n",
      "|         2.57|        12.8|\n",
      "|          0.4|         5.3|\n",
      "|         3.26|        17.3|\n",
      "|        13.41|       47.25|\n",
      "|         18.3|       61.42|\n",
      "|         1.53|       14.16|\n",
      "|          2.0|        11.8|\n",
      "|         16.6|       54.96|\n",
      "|         15.5|       56.25|\n",
      "|          1.3|        16.8|\n",
      "+-------------+------------+\n",
      "only showing top 20 rows\n",
      "\n"
     ]
    }
   ],
   "source": [
    "data_df.show()"
   ]
  },
  {
   "cell_type": "code",
   "execution_count": 6,
   "metadata": {},
   "outputs": [],
   "source": [
    "# 훈련 / 테스트 데이터 나누기\n",
    "train_df, test_df = data_df.randomSplit([0.8,0.2], seed=42)"
   ]
  },
  {
   "cell_type": "code",
   "execution_count": 7,
   "metadata": {},
   "outputs": [
    {
     "data": {
      "text/plain": [
       "DataFrame[trip_distance: double, total_amount: double]"
      ]
     },
     "execution_count": 7,
     "metadata": {},
     "output_type": "execute_result"
    }
   ],
   "source": [
    "# 훈련 데이터는 캐싱\n",
    "train_df.cache()"
   ]
  },
  {
   "cell_type": "code",
   "execution_count": 8,
   "metadata": {},
   "outputs": [
    {
     "name": "stderr",
     "output_type": "stream",
     "text": [
      "                                                                                \r"
     ]
    },
    {
     "data": {
      "text/plain": [
       "(10660955, 2665176)"
      ]
     },
     "execution_count": 8,
     "metadata": {},
     "output_type": "execute_result"
    }
   ],
   "source": [
    "train_df.count(), test_df.count()"
   ]
  },
  {
   "cell_type": "markdown",
   "metadata": {},
   "source": [
    "`feature`가 하나 밖에 없지만 `VectorAssembler`를 활용해서 1차원 배열 형식으로 각각의 데이터를 만들어 준다."
   ]
  },
  {
   "cell_type": "code",
   "execution_count": 10,
   "metadata": {},
   "outputs": [
    {
     "name": "stdout",
     "output_type": "stream",
     "text": [
      "+-------------+------------+--------+\n",
      "|trip_distance|total_amount|features|\n",
      "+-------------+------------+--------+\n",
      "|         0.01|        3.05|  [0.01]|\n",
      "|         0.01|         3.3|  [0.01]|\n",
      "|         0.01|         3.3|  [0.01]|\n",
      "|         0.01|         3.3|  [0.01]|\n",
      "|         0.01|         3.3|  [0.01]|\n",
      "+-------------+------------+--------+\n",
      "only showing top 5 rows\n",
      "\n"
     ]
    }
   ],
   "source": [
    "from pyspark.ml.feature import VectorAssembler\n",
    "\n",
    "vec_assembler = VectorAssembler(inputCols=[\"trip_distance\"], outputCol=\"features\")\n",
    "vec_train_df = vec_assembler.transform(train_df)\n",
    "\n",
    "vec_train_df.show(5)"
   ]
  },
  {
   "cell_type": "code",
   "execution_count": 11,
   "metadata": {},
   "outputs": [
    {
     "name": "stderr",
     "output_type": "stream",
     "text": [
      "23/08/03 20:13:44 WARN Instrumentation: [d6acfbe6] regParam is zero, which might cause numerical instability and overfitting.\n",
      "23/08/03 20:13:45 WARN InstanceBuilder$NativeBLAS: Failed to load implementation from:dev.ludovic.netlib.blas.JNIBLAS\n",
      "23/08/03 20:13:45 WARN InstanceBuilder$NativeBLAS: Failed to load implementation from:dev.ludovic.netlib.blas.ForeignLinkerBLAS\n",
      "23/08/03 20:14:10 WARN InstanceBuilder$NativeLAPACK: Failed to load implementation from:dev.ludovic.netlib.lapack.JNILAPACK\n",
      "                                                                                \r"
     ]
    }
   ],
   "source": [
    "from pyspark.ml.regression import LinearRegression\n",
    "\n",
    "lr = LinearRegression(\n",
    "\n",
    "    maxIter=50,\n",
    "    labelCol=\"total_amount\",\n",
    "    featuresCol=\"features\"\n",
    ")\n",
    "lr_model = lr.fit(vec_train_df)"
   ]
  },
  {
   "cell_type": "code",
   "execution_count": 12,
   "metadata": {},
   "outputs": [
    {
     "data": {
      "text/plain": [
       "pyspark.ml.regression.LinearRegressionModel"
      ]
     },
     "execution_count": 12,
     "metadata": {},
     "output_type": "execute_result"
    }
   ],
   "source": [
    "type(lr_model)"
   ]
  },
  {
   "cell_type": "code",
   "execution_count": 13,
   "metadata": {},
   "outputs": [
    {
     "name": "stderr",
     "output_type": "stream",
     "text": [
      "[Stage 14:>                                                         (0 + 1) / 1]\r"
     ]
    },
    {
     "name": "stdout",
     "output_type": "stream",
     "text": [
      "+-------------+------------+--------+-----------------+\n",
      "|trip_distance|total_amount|features|       prediction|\n",
      "+-------------+------------+--------+-----------------+\n",
      "|         0.01|         3.3|  [0.01]|9.418361874707077|\n",
      "|         0.01|         3.3|  [0.01]|9.418361874707077|\n",
      "|         0.01|         3.3|  [0.01]|9.418361874707077|\n",
      "|         0.01|         3.3|  [0.01]|9.418361874707077|\n",
      "|         0.01|         3.3|  [0.01]|9.418361874707077|\n",
      "|         0.01|         3.3|  [0.01]|9.418361874707077|\n",
      "|         0.01|         3.3|  [0.01]|9.418361874707077|\n",
      "|         0.01|         3.3|  [0.01]|9.418361874707077|\n",
      "|         0.01|         3.3|  [0.01]|9.418361874707077|\n",
      "|         0.01|         3.3|  [0.01]|9.418361874707077|\n",
      "|         0.01|         3.3|  [0.01]|9.418361874707077|\n",
      "|         0.01|         3.3|  [0.01]|9.418361874707077|\n",
      "|         0.01|         3.3|  [0.01]|9.418361874707077|\n",
      "|         0.01|         3.3|  [0.01]|9.418361874707077|\n",
      "|         0.01|         3.3|  [0.01]|9.418361874707077|\n",
      "|         0.01|         3.3|  [0.01]|9.418361874707077|\n",
      "|         0.01|         3.8|  [0.01]|9.418361874707077|\n",
      "|         0.01|         3.8|  [0.01]|9.418361874707077|\n",
      "|         0.01|         3.8|  [0.01]|9.418361874707077|\n",
      "|         0.01|         4.3|  [0.01]|9.418361874707077|\n",
      "+-------------+------------+--------+-----------------+\n",
      "only showing top 20 rows\n",
      "\n"
     ]
    },
    {
     "name": "stderr",
     "output_type": "stream",
     "text": [
      "                                                                                \r"
     ]
    }
   ],
   "source": [
    "vec_test_df = vec_assembler.transform(test_df)\n",
    "predictions = lr_model.transform(vec_test_df) # 예측 할 때도 transform\n",
    "predictions.show()"
   ]
  },
  {
   "cell_type": "code",
   "execution_count": 15,
   "metadata": {},
   "outputs": [
    {
     "data": {
      "text/plain": [
       "6.308435272654453"
      ]
     },
     "execution_count": 15,
     "metadata": {},
     "output_type": "execute_result"
    }
   ],
   "source": [
    "# Evaluator를 쓰지 않고 Train 데이터에 대한 RMSE 확인\n",
    "lr_model.summary.rootMeanSquaredError"
   ]
  },
  {
   "cell_type": "code",
   "execution_count": 16,
   "metadata": {},
   "outputs": [
    {
     "data": {
      "text/plain": [
       "0.765849929974943"
      ]
     },
     "execution_count": 16,
     "metadata": {},
     "output_type": "execute_result"
    }
   ],
   "source": [
    "lr_model.summary.r2"
   ]
  },
  {
   "cell_type": "code",
   "execution_count": null,
   "metadata": {},
   "outputs": [],
   "source": [
    "spark.stop()"
   ]
  }
 ],
 "metadata": {
  "kernelspec": {
   "display_name": "spark-env-324",
   "language": "python",
   "name": "python3"
  },
  "language_info": {
   "codemirror_mode": {
    "name": "ipython",
    "version": 3
   },
   "file_extension": ".py",
   "mimetype": "text/x-python",
   "name": "python",
   "nbconvert_exporter": "python",
   "pygments_lexer": "ipython3",
   "version": "3.8.17"
  },
  "orig_nbformat": 4
 },
 "nbformat": 4,
 "nbformat_minor": 2
}
