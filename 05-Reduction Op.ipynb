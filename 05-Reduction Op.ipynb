{
 "cells": [
  {
   "cell_type": "code",
   "execution_count": 1,
   "id": "825ff3ea",
   "metadata": {},
   "outputs": [
    {
     "name": "stderr",
     "output_type": "stream",
     "text": [
      "Setting default log level to \"WARN\".\n",
      "To adjust logging level use sc.setLogLevel(newLevel). For SparkR, use setLogLevel(newLevel).\n",
      "23/07/22 14:35:07 WARN NativeCodeLoader: Unable to load native-hadoop library for your platform... using builtin-java classes where applicable\n"
     ]
    }
   ],
   "source": [
    "from pyspark import SparkConf, SparkContext\n",
    "# SparkConf : 환경 설정\n",
    "# SparkContext : 실제 개발 프로그램. 드라이브\n",
    "#conf = SparkConf().setMaster(\"yarn\") # yarn으로 하면 자동으로 하둡을 사용하게 된다\n",
    "conf = SparkConf().setMaster(\"local\").setAppName(\"transformations_actions\")\n",
    "sc = SparkContext(conf=conf) # sc 변수명 바꾸면 안된다. 실무에서는 스파크 서브밋 이라는 것을 사용한다. 그때 필수"
   ]
  },
  {
   "cell_type": "markdown",
   "id": "dc8f7946",
   "metadata": {},
   "source": [
    "# Reduce\n",
    "- 사용자가 지정하는 함수를 받아(task) 여러 개의 값을 하나로 줄여준다.\n",
    "- 파티션 별로 작업이 일어난다."
   ]
  },
  {
   "cell_type": "code",
   "execution_count": 3,
   "id": "ab5356dd",
   "metadata": {},
   "outputs": [],
   "source": [
    "from operator import add"
   ]
  },
  {
   "cell_type": "code",
   "execution_count": 4,
   "id": "da0c23fa",
   "metadata": {},
   "outputs": [
    {
     "data": {
      "text/plain": [
       "4"
      ]
     },
     "execution_count": 4,
     "metadata": {},
     "output_type": "execute_result"
    }
   ],
   "source": [
    "add(1,3)"
   ]
  },
  {
   "cell_type": "code",
   "execution_count": 5,
   "id": "617ddc75",
   "metadata": {},
   "outputs": [
    {
     "data": {
      "text/plain": [
       "ParallelCollectionRDD[0] at readRDDFromFile at PythonRDD.scala:287"
      ]
     },
     "execution_count": 5,
     "metadata": {},
     "output_type": "execute_result"
    }
   ],
   "source": [
    "sample_rdd = sc.parallelize([1,2,3,4,5])\n",
    "sample_rdd"
   ]
  },
  {
   "cell_type": "code",
   "execution_count": 6,
   "id": "48c0c449",
   "metadata": {},
   "outputs": [
    {
     "name": "stderr",
     "output_type": "stream",
     "text": [
      "                                                                                \r"
     ]
    },
    {
     "data": {
      "text/plain": [
       "15"
      ]
     },
     "execution_count": 6,
     "metadata": {},
     "output_type": "execute_result"
    }
   ],
   "source": [
    "sample_rdd.reduce(add)"
   ]
  },
  {
   "cell_type": "code",
   "execution_count": 10,
   "id": "fe5d53a9",
   "metadata": {},
   "outputs": [
    {
     "data": {
      "text/plain": [
       "[[1, 2, 3, 4]]"
      ]
     },
     "execution_count": 10,
     "metadata": {},
     "output_type": "execute_result"
    }
   ],
   "source": [
    "# 파티션 옵션을 따로 설정하지 않으면 기본적으로 파티션이 1개\n",
    "sample_rdd_p1 = sc.parallelize([1,2,3,4])\n",
    "sample_rdd_p1.glom().collect() # glom은 파티션으로 나뉘어진 정보를 보여준다"
   ]
  },
  {
   "cell_type": "code",
   "execution_count": 11,
   "id": "a7901af3",
   "metadata": {
    "scrolled": true
   },
   "outputs": [
    {
     "data": {
      "text/plain": [
       "[[1, 2], [3, 4]]"
      ]
     },
     "execution_count": 11,
     "metadata": {},
     "output_type": "execute_result"
    }
   ],
   "source": [
    "sample_rdd_p2 = sc.parallelize([1,2,3,4],2) #파티션 2개 설정\n",
    "sample_rdd_p2.glom().collect() "
   ]
  },
  {
   "cell_type": "code",
   "execution_count": 12,
   "id": "54759003",
   "metadata": {},
   "outputs": [
    {
     "data": {
      "text/plain": [
       "26"
      ]
     },
     "execution_count": 12,
     "metadata": {},
     "output_type": "execute_result"
    }
   ],
   "source": [
    "# 파티션이 1개인 상태에서 reduce\n",
    "sample_rdd_p1.reduce(lambda x, y : (x*2)+y)"
   ]
  },
  {
   "cell_type": "code",
   "execution_count": 13,
   "id": "0f2d85aa",
   "metadata": {},
   "outputs": [
    {
     "data": {
      "text/plain": [
       "18"
      ]
     },
     "execution_count": 13,
     "metadata": {},
     "output_type": "execute_result"
    }
   ],
   "source": [
    "# 파티션이 2개인 상태에서 reduce\n",
    "sample_rdd_p2.reduce(lambda x, y : (x*2)+y)"
   ]
  },
  {
   "cell_type": "code",
   "execution_count": 17,
   "id": "f66271af",
   "metadata": {},
   "outputs": [
    {
     "data": {
      "text/plain": [
       "18"
      ]
     },
     "execution_count": 17,
     "metadata": {},
     "output_type": "execute_result"
    }
   ],
   "source": [
    "# 파티션이 3개인 상태에서 reduce\n",
    "sample_rdd_p3 = sc.parallelize([1,2,3,4],3) #파티션 3개 설정\n",
    "sample_rdd_p3.reduce(lambda x, y : (x*2)+y)"
   ]
  },
  {
   "cell_type": "code",
   "execution_count": 18,
   "id": "e32f40b4",
   "metadata": {},
   "outputs": [
    {
     "data": {
      "text/plain": [
       "[[1], [2], [3, 4]]"
      ]
     },
     "execution_count": 18,
     "metadata": {},
     "output_type": "execute_result"
    }
   ],
   "source": [
    "sample_rdd_p3.glom().collect() "
   ]
  },
  {
   "cell_type": "code",
   "execution_count": 16,
   "id": "18262984",
   "metadata": {},
   "outputs": [],
   "source": [
    "# 데이터가 4개인데 3개의 파티션으로 구성하면 앞쪽꺼는 하나씩, 뒤에는 다 몰려서 들어간다"
   ]
  },
  {
   "cell_type": "code",
   "execution_count": 19,
   "id": "3e9c8c79",
   "metadata": {},
   "outputs": [],
   "source": [
    "# 파티션 4개로 하면 1개로 했을 때와 같은 결과가 나온다"
   ]
  },
  {
   "cell_type": "markdown",
   "id": "57e55472",
   "metadata": {},
   "source": [
    "동일한 연산을 수행하는데, 파티션의 개수에 따라서 연산의 결과가 달라진다. 연산자의 우선순위를 항상 주의해야 한다."
   ]
  },
  {
   "cell_type": "markdown",
   "id": "921a6bb5",
   "metadata": {},
   "source": [
    "# Fold\n",
    "- `reduce`와 비슷하지만, `zeroValue`에 넣어 놓고 싶은 시작값을 지정해서 `reduce`\n",
    "- `zeroValue`는 파티션 마다 계산이 일어날 때 하나씩 더해지는 값"
   ]
  },
  {
   "cell_type": "code",
   "execution_count": 22,
   "id": "4416cdc0",
   "metadata": {},
   "outputs": [
    {
     "data": {
      "text/plain": [
       "[[], [2], [3], [4]]"
      ]
     },
     "execution_count": 22,
     "metadata": {},
     "output_type": "execute_result"
    }
   ],
   "source": [
    "sample_rdd = sc.parallelize([2,3,4],4)\n",
    "sample_rdd.glom().collect()"
   ]
  },
  {
   "cell_type": "code",
   "execution_count": 23,
   "id": "0c490eae",
   "metadata": {},
   "outputs": [
    {
     "data": {
      "text/plain": [
       "24"
      ]
     },
     "execution_count": 23,
     "metadata": {},
     "output_type": "execute_result"
    }
   ],
   "source": [
    "sample_rdd.reduce(lambda x, y : (x*y))"
   ]
  },
  {
   "cell_type": "code",
   "execution_count": 32,
   "id": "cad26a7b",
   "metadata": {},
   "outputs": [
    {
     "data": {
      "text/plain": [
       "24"
      ]
     },
     "execution_count": 32,
     "metadata": {},
     "output_type": "execute_result"
    }
   ],
   "source": [
    "sample_rdd.fold(1, lambda x, y : (x*y)) # [1,1], [1,2],[1,3],[1,4] 매개변수가 2개니까 1(설정값, 시작값)이 추가된다.\n",
    "# 각 데이터의 파티션별로 우선 연산이 이루어 진다\n",
    "# (1*1)*(1*2)*(1*3)*(1*4)"
   ]
  },
  {
   "cell_type": "code",
   "execution_count": 33,
   "id": "4b13b832",
   "metadata": {},
   "outputs": [
    {
     "data": {
      "text/plain": [
       "768"
      ]
     },
     "execution_count": 33,
     "metadata": {},
     "output_type": "execute_result"
    }
   ],
   "source": [
    "sample_rdd.fold(2, lambda x, y : (x*y)) # [2,2], [2,2],[2,3],[2,4] 매개변수가 2개니까 1(설정값, 시작값)이 추가된다.\n",
    "# 각 데이터의 파티션별로 우선 연산이 이루어 진다\n",
    "# (2*2)*(2*2)*(2*3)*(2*4)"
   ]
  },
  {
   "cell_type": "code",
   "execution_count": 34,
   "id": "5947a72c",
   "metadata": {},
   "outputs": [],
   "source": [
    "# 설정값으로 연산에 필요한 구조를 맞춰주고 빈값이 있으면 채운다"
   ]
  },
  {
   "cell_type": "markdown",
   "id": "d7b0d37a",
   "metadata": {},
   "source": [
    "# groupBy\n",
    "- 그루핑할 기준 함수를 받아서 reduction"
   ]
  },
  {
   "cell_type": "code",
   "execution_count": 35,
   "id": "6b1e18f2",
   "metadata": {},
   "outputs": [],
   "source": [
    "sample_rdd = sc.parallelize([1,1,2,3,5,6,7,10,3])"
   ]
  },
  {
   "cell_type": "code",
   "execution_count": 38,
   "id": "b26c8570",
   "metadata": {},
   "outputs": [
    {
     "data": {
      "text/plain": [
       "[(1, <pyspark.resultiterable.ResultIterable at 0x7f2f2019a580>),\n",
       " (0, <pyspark.resultiterable.ResultIterable at 0x7f2f2019aac0>)]"
      ]
     },
     "execution_count": 38,
     "metadata": {},
     "output_type": "execute_result"
    }
   ],
   "source": [
    "result = sample_rdd.groupBy(lambda x : x%2).collect()\n",
    "result"
   ]
  },
  {
   "cell_type": "code",
   "execution_count": 40,
   "id": "cf3c5dca",
   "metadata": {},
   "outputs": [
    {
     "name": "stdout",
     "output_type": "stream",
     "text": [
      "1 [1, 1, 3, 5, 7, 3]\n",
      "0 [2, 6, 10]\n"
     ]
    }
   ],
   "source": [
    "for k, v in result:\n",
    "    print(k, list(v))"
   ]
  },
  {
   "cell_type": "code",
   "execution_count": 41,
   "id": "daecf058",
   "metadata": {},
   "outputs": [
    {
     "data": {
      "text/plain": [
       "[(0, [2, 6, 10]), (1, [1, 1, 3, 3, 5, 7])]"
      ]
     },
     "execution_count": 41,
     "metadata": {},
     "output_type": "execute_result"
    }
   ],
   "source": [
    "sorted([(x, sorted(y)) for (x, y) in result]) # sorted : 내부 Iterable 객체를 정렬한 후 리스트로 리턴"
   ]
  },
  {
   "cell_type": "markdown",
   "id": "6b24babe",
   "metadata": {},
   "source": [
    "# Aggregate\n",
    "- `RDD.aggregate(zeroValue, seqOp, combOp)`\n",
    "    - `zeroValue` : 각 파티션에서 누적할 시작 값\n",
    "    - `seqOp` : 타입 변경 함수\n",
    "        - 파티션 내에서 벌어지는 연산을 담당\n",
    "    - `combOp` : 모든 결과를 하나로 합쳐주는 역할\n",
    "        - 파티션 밖에서, 집계해 주는 연산\n",
    "    - 파티션 단위의 연산 결과를 합쳐주는 과정을 거치게 된다."
   ]
  },
  {
   "cell_type": "code",
   "execution_count": 43,
   "id": "2c0c752c",
   "metadata": {},
   "outputs": [
    {
     "data": {
      "text/plain": [
       "[[1, 2], [3, 4]]"
      ]
     },
     "execution_count": 43,
     "metadata": {},
     "output_type": "execute_result"
    }
   ],
   "source": [
    "sample_rdd = sc.parallelize([1,2,3,4],2)\n",
    "sample_rdd.glom().collect()"
   ]
  },
  {
   "cell_type": "code",
   "execution_count": 46,
   "id": "4ae8ff74",
   "metadata": {},
   "outputs": [],
   "source": [
    "seqOp = lambda x, y : (x[0]+y, x[1]+1) # 파티션 내의 연산\n",
    "combOp = lambda x, y : (x[0]+y[0], x[1]+y[1]) # 파티션의 모든 결과를 최종 연산"
   ]
  },
  {
   "cell_type": "code",
   "execution_count": 47,
   "id": "a9a73f15",
   "metadata": {},
   "outputs": [
    {
     "data": {
      "text/plain": [
       "(10, 4)"
      ]
     },
     "execution_count": 47,
     "metadata": {},
     "output_type": "execute_result"
    }
   ],
   "source": [
    "sample_rdd.aggregate((0,0), seqOp, combOp)"
   ]
  },
  {
   "cell_type": "code",
   "execution_count": null,
   "id": "6383222d",
   "metadata": {},
   "outputs": [],
   "source": [
    "(0,1) (2,1) (4,1)\n",
    "(2,2)\n",
    "(10,7)"
   ]
  }
 ],
 "metadata": {
  "kernelspec": {
   "display_name": "Python 3 (ipykernel)",
   "language": "python",
   "name": "python3"
  },
  "language_info": {
   "codemirror_mode": {
    "name": "ipython",
    "version": 3
   },
   "file_extension": ".py",
   "mimetype": "text/x-python",
   "name": "python",
   "nbconvert_exporter": "python",
   "pygments_lexer": "ipython3",
   "version": "3.8.17"
  }
 },
 "nbformat": 4,
 "nbformat_minor": 5
}
