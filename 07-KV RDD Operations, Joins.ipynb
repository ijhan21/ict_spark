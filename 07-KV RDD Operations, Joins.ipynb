{
 "cells": [
  {
   "cell_type": "code",
   "execution_count": 1,
   "id": "183643a2",
   "metadata": {},
   "outputs": [
    {
     "name": "stderr",
     "output_type": "stream",
     "text": [
      "Setting default log level to \"WARN\".\n",
      "To adjust logging level use sc.setLogLevel(newLevel). For SparkR, use setLogLevel(newLevel).\n",
      "23/07/25 19:57:01 WARN NativeCodeLoader: Unable to load native-hadoop library for your platform... using builtin-java classes where applicable\n"
     ]
    }
   ],
   "source": [
    "from pyspark import SparkConf, SparkContext\n",
    "# SparkConf : 환경 설정\n",
    "# SparkContext : 실제 개발 프로그램. 드라이브\n",
    "#conf = SparkConf().setMaster(\"yarn\") # yarn으로 하면 자동으로 하둡을 사용하게 된다\n",
    "conf = SparkConf().setMaster(\"local\").setAppName(\"key-value_rdd_op_joins\")\n",
    "sc = SparkContext(conf=conf) # sc 변수명 바꾸면 안된다. 실무에서는 스파크 서브밋 이라는 것을 사용한다. 그때 필수"
   ]
  },
  {
   "cell_type": "markdown",
   "id": "db24c6c5",
   "metadata": {},
   "source": [
    "# Operations\n",
    "- `groupByKey`\n",
    "    - `KeyValueRDD.groupByKey()`\n",
    "    - 그룹핑 후에 특정 Transformations 연산\n",
    "    - `Key`값이 존재하는 상태로 시작"
   ]
  },
  {
   "cell_type": "code",
   "execution_count": 3,
   "id": "6722d12f",
   "metadata": {},
   "outputs": [],
   "source": [
    "rdd = sc.parallelize([\n",
    "    (\"짜장면\", 15),\n",
    "    (\"짬뽕\",  10),\n",
    "    (\"짜장면\", 5)\n",
    "])"
   ]
  },
  {
   "cell_type": "code",
   "execution_count": 4,
   "id": "6dd047e5",
   "metadata": {},
   "outputs": [
    {
     "data": {
      "text/plain": [
       "PythonRDD[5] at RDD at PythonRDD.scala:53"
      ]
     },
     "execution_count": 4,
     "metadata": {},
     "output_type": "execute_result"
    }
   ],
   "source": [
    "g_rdd = rdd.groupByKey()\n",
    "g_rdd"
   ]
  },
  {
   "cell_type": "code",
   "execution_count": 6,
   "id": "f2c82db6",
   "metadata": {},
   "outputs": [
    {
     "data": {
      "text/plain": [
       "[('짜장면', <pyspark.resultiterable.ResultIterable at 0x7f6780356610>),\n",
       " ('짬뽕', <pyspark.resultiterable.ResultIterable at 0x7f6780356910>)]"
      ]
     },
     "execution_count": 6,
     "metadata": {},
     "output_type": "execute_result"
    }
   ],
   "source": [
    "g_rdd.collect() # 키로 묶여지는 것까지됨. 이후에 특정 transformation  연산을 연결함"
   ]
  },
  {
   "cell_type": "code",
   "execution_count": 7,
   "id": "334063e8",
   "metadata": {},
   "outputs": [
    {
     "data": {
      "text/plain": [
       "[('짜장면', 2), ('짬뽕', 1)]"
      ]
     },
     "execution_count": 7,
     "metadata": {},
     "output_type": "execute_result"
    }
   ],
   "source": [
    "g_rdd.mapValues(len).collect()"
   ]
  },
  {
   "cell_type": "code",
   "execution_count": 10,
   "id": "c7d3ca18",
   "metadata": {
    "scrolled": true
   },
   "outputs": [
    {
     "data": {
      "text/plain": [
       "[('짜장면', [15, 5]), ('짬뽕', [10])]"
      ]
     },
     "execution_count": 10,
     "metadata": {},
     "output_type": "execute_result"
    }
   ],
   "source": [
    "g_rdd.mapValues(list).collect()"
   ]
  },
  {
   "cell_type": "markdown",
   "id": "c24dad5a",
   "metadata": {},
   "source": [
    "# Joins"
   ]
  },
  {
   "cell_type": "code",
   "execution_count": 12,
   "id": "9f5f0c4f",
   "metadata": {},
   "outputs": [],
   "source": [
    "rdd1 = sc.parallelize([\n",
    "    (\"foo\", 1),\n",
    "    (\"goo\", 2),\n",
    "    (\"hoo\", 3)\n",
    "])\n",
    "\n",
    "rdd2 = sc.parallelize([\n",
    "    (\"foo\", 1),\n",
    "    (\"goo\", 2),\n",
    "    (\"goo\", 10),\n",
    "    (\"moo\", 6),\n",
    "])"
   ]
  },
  {
   "cell_type": "code",
   "execution_count": 13,
   "id": "9d2b9801",
   "metadata": {},
   "outputs": [
    {
     "data": {
      "text/plain": [
       "[('foo', (1, 1)), ('goo', (2, 2)), ('goo', (2, 10))]"
      ]
     },
     "execution_count": 13,
     "metadata": {},
     "output_type": "execute_result"
    }
   ],
   "source": [
    "# Inner Join : 서로 간에 존재하는 키만 합쳐준다.\n",
    "rdd1.join(rdd2).collect()"
   ]
  },
  {
   "cell_type": "code",
   "execution_count": 14,
   "id": "ccd85c1c",
   "metadata": {},
   "outputs": [
    {
     "data": {
      "text/plain": [
       "[('foo', (1, 1)), ('goo', (2, 2)), ('goo', (2, 10)), ('hoo', (3, None))]"
      ]
     },
     "execution_count": 14,
     "metadata": {},
     "output_type": "execute_result"
    }
   ],
   "source": [
    "# Outer Join\n",
    "# 기준이 되는 한 쪽에는 데이터가 존재하고, 다른 쪽에는 데이터가 없는 경우 기준 쪽의 데이터가 항상 남아있다.\n",
    "\n",
    "# leftOuterJoin : 왼쪽에 있는 RDD가 기준이 된다. (함수를 호출하는 쪽)\n",
    "rdd1.leftOuterJoin(rdd2).collect()"
   ]
  },
  {
   "cell_type": "code",
   "execution_count": 15,
   "id": "a4a7397f",
   "metadata": {},
   "outputs": [
    {
     "data": {
      "text/plain": [
       "[('foo', (1, 1)), ('moo', (None, 6)), ('goo', (2, 2)), ('goo', (2, 10))]"
      ]
     },
     "execution_count": 15,
     "metadata": {},
     "output_type": "execute_result"
    }
   ],
   "source": [
    "# rightOuterJoin : 오른쪽에 있는 RDD가 기준이 된다. 함수의 매개변수로 들어가는 쪽\n",
    "rdd1.rightOuterJoin(rdd2).collect()"
   ]
  },
  {
   "cell_type": "code",
   "execution_count": 16,
   "id": "69bb64de",
   "metadata": {},
   "outputs": [],
   "source": [
    "sc.stop()"
   ]
  },
  {
   "cell_type": "code",
   "execution_count": null,
   "id": "4f240ccf",
   "metadata": {},
   "outputs": [],
   "source": []
  }
 ],
 "metadata": {
  "kernelspec": {
   "display_name": "Python 3 (ipykernel)",
   "language": "python",
   "name": "python3"
  },
  "language_info": {
   "codemirror_mode": {
    "name": "ipython",
    "version": 3
   },
   "file_extension": ".py",
   "mimetype": "text/x-python",
   "name": "python",
   "nbconvert_exporter": "python",
   "pygments_lexer": "ipython3",
   "version": "3.8.17"
  }
 },
 "nbformat": 4,
 "nbformat_minor": 5
}
